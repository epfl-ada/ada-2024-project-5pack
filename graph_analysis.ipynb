{
 "cells": [
  {
   "cell_type": "code",
   "execution_count": 2,
   "metadata": {},
   "outputs": [],
   "source": [
    "%load_ext autoreload\n",
    "%autoreload 2\n",
    "\n",
    "from collections import defaultdict\n",
    "from matplotlib import pyplot as plt\n",
    "\n",
    "import networkx as nx\n",
    "\n",
    "from src.data.graph import load_graph_data"
   ]
  },
  {
   "cell_type": "markdown",
   "metadata": {},
   "source": [
    "# 1. Data loading"
   ]
  },
  {
   "cell_type": "code",
   "execution_count": 3,
   "metadata": {},
   "outputs": [
    {
     "name": "stdout",
     "output_type": "stream",
     "text": [
      "loading raw data from tsv files...\n",
      "formatting articles...\n",
      "formatting categories...\n",
      "formatting links...\n",
      "formatting paths...\n",
      "formatting distance matrix...\n",
      "building graph...\n",
      "\n",
      "Keys:\n",
      "\tpaths_finished    articles    links    shortest-path-distance-matrix    categories    paths_unfinished    graph\n"
     ]
    }
   ],
   "source": [
    "graph_data = load_graph_data()\n",
    "print(\"\\nKeys:\\n\\t{}\".format(\"    \".join(graph_data.keys())))"
   ]
  },
  {
   "cell_type": "code",
   "execution_count": 62,
   "metadata": {},
   "outputs": [],
   "source": [
    "def get_edge_weights(dataframe: str) -> dict[tuple[str, str], int]:\n",
    "    \"\"\"\n",
    "    Return a dictionary where the keys are tuples representing an edge (u, v) and values are the edges weights.\n",
    "    The weight of an edge (u, v) is the number of times users went from u to v in their path.\n",
    "    If a user clicked on '<', the article that was discarded does not contribute to the weight.\n",
    "    \"\"\"\n",
    "    # Initialize all edge weights to zero\n",
    "    edge_weights: dict[tuple[str, str], int] = {}\n",
    "    for _, row in graph_data['links'].iterrows():\n",
    "        source, dest = row['source_name'], row['target_name']\n",
    "        edge_weights[(source, dest)] = 0\n",
    "        \n",
    "    for _, row in graph_data['articles'].iterrows():\n",
    "        source = row['name'] \n",
    "        edge_weights[(source, '<')] = 0\n",
    "    \n",
    "    # Increase edge weights\n",
    "    unrecognized_edges: set[tuple[str, str]] = set()\n",
    "    for _, row in graph_data[dataframe].iterrows():\n",
    "        path = row['path']\n",
    "        clean_path = []  # Path without '<'\n",
    "        for element in path:\n",
    "            if element == '<':\n",
    "                edge_weights[(clean_path[-1], '<')] += 1\n",
    "                clean_path.pop()\n",
    "            else:\n",
    "                clean_path.append(element)\n",
    "                \n",
    "        for i in range(1, len(clean_path)):\n",
    "            edge = (clean_path[i-1], clean_path[i])\n",
    "            if edge not in edge_weights:\n",
    "                unrecognized_edges.add(edge)\n",
    "                edge_weights[edge] = 0\n",
    "                \n",
    "            edge_weights[edge] += 1\n",
    "            \n",
    "    \n",
    "    if len(unrecognized_edges) > 0:\n",
    "        print(f\"Note that the following edges are present in '{dataframe} 'but not in 'links'\")\n",
    "        print(unrecognized_edges)\n",
    "        \n",
    "    assert(sum(edge_weights.values()) == \n",
    "        sum(graph_data[dataframe]['path'].apply(len)) \n",
    "        - sum(graph_data[dataframe]['path'].apply(lambda l: l.count('<')))\n",
    "        - len(graph_data[dataframe]))\n",
    "    \n",
    "    return edge_weights\n",
    "\n",
    "   "
   ]
  },
  {
   "cell_type": "code",
   "execution_count": 63,
   "metadata": {},
   "outputs": [],
   "source": [
    "def get_graph(dataframe: str) -> nx.DiGraph:\n",
    "    \"\"\"\n",
    "    Generates a directed graph from the given dataframe (either 'paths_finished' or 'paths_unfinished').\n",
    "    The nodes of the graph are the articles.\n",
    "    The weight of the edges of the graph represents the number of times users went from one article to another.\n",
    "    A special node '<' is created. \n",
    "    The weight of an edge from u to '<' represents the number of times users clicked on the back button after visiting u.\n",
    "    \"\"\"\n",
    "    graph = nx.DiGraph()\n",
    "    \n",
    "    # Add nodes to graph\n",
    "    graph.add_node('<')\n",
    "    for _, node in graph_data['articles'].iterrows():\n",
    "        graph.add_node(node['name'])\n",
    "        \n",
    "    # Add edges to graph\n",
    "    edge_weights = get_edge_weights(dataframe)\n",
    "    for (source, dest), count in edge_weights.items():\n",
    "        graph.add_edge(source, dest, weight=count)\n",
    "        \n",
    "    assert(graph.number_of_nodes() == len(graph_data['articles']) + 1)\n",
    "    assert(abs(graph.number_of_edges() - len(graph_data['links']) - len(graph_data['articles'])) <= 4)\n",
    "    return graph"
   ]
  },
  {
   "cell_type": "code",
   "execution_count": 64,
   "metadata": {},
   "outputs": [
    {
     "name": "stdout",
     "output_type": "stream",
     "text": [
      "Note that the following edges are present in 'paths_finished 'but not in 'links'\n",
      "{('Claude_Monet', 'Édouard_Manet'), ('Bird', 'Wikipedia_Text_of_the_GNU_Free_Documentation_License'), ('Republic_of_Ireland', 'Éire'), ('Finland', 'Åland')}\n"
     ]
    }
   ],
   "source": [
    "finished_graph = get_graph('paths_finished')"
   ]
  },
  {
   "cell_type": "markdown",
   "metadata": {},
   "source": [
    "### Analyzing edges"
   ]
  },
  {
   "cell_type": "code",
   "execution_count": 66,
   "metadata": {},
   "outputs": [
    {
     "data": {
      "image/png": "[encoded data removed]",
      "text/plain": [
       "<Figure size 1000x600 with 1 Axes>"
      ]
     },
     "metadata": {},
     "output_type": "display_data"
    },
    {
     "name": "stdout",
     "output_type": "stream",
     "text": [
      "{0: 0.5799823278978231, 1: 0.164848582215439, 2: 0.07611053096634268, 3: 0.04434894369025624, 4: 0.02793798698690658, 5: 0.01959193509518837, 6: 0.014129648967788577, 7: 0.01068358904329665, 8: 0.008209494738533215, 9: 0.006586874447746807, 10: 0.005381958390232147, 11: 0.0048598280986424615, 12: 0.003662944814844566, 13: 0.0028757329906016547, 14: 0.002642782552815487, 15: 0.0022411438669772674, 16: 0.0022491766406940315, 17: 0.0019358984657402202, 18: 0.0016868824805205238, 19: 0.0014619648164511205, 20: 0.0012531126998152461, 21: 0.0012209816049481887, 22: 0.0009960639408787854, 23: 0.0010442605831793717, 24: 0.0009077034299943771, 25: 0.0007791790505261467, 26: 0.0005944252550405655, 27: 0.0005863924813238012, 28: 0.0005703269338902723, 29: 0.0005944252550405655, 30: 0.0004337697807052775, 31: 0.00044180255442204195, 32: 0.0004337697807052775, 33: 0.00038557313840469114, 34: 0.00030524540123704716, 35: 0.00038557313840469114, 36: 0.00023295043778616756, 37: 0.0003614748172543979, 38: 0.00031327817495381153, 39: 0.00029721262752028274, 40: 0.00024098321150293196, 41: 0.00020081934291910997, 42: 0.00018475379548558117, 43: 0.00015262270061852358, 44: 0.00018475379548558117, 45: 0.00017672102176881677, 46: 0.0001285243794682304, 47: 0.00016868824805205238, 48: 0.00014458992690175918, 49: 0.00018475379548558117, 50: 0.0001285243794682304, 51: 0.00024901598521969635, 52: 0.00011245883203470158, 53: 0.00015262270061852358, 54: 0.00011245883203470158, 55: 0.0001365571531849948, 56: 6.42621897341152e-05, 57: 0.00010442605831793718, 58: 9.639328460117278e-05, 59: 8.836051088440839e-05, 60: 0.00011245883203470158, 61: 0.00010442605831793718, 62: 8.032773716764399e-05, 63: 5.622941601735079e-05, 64: 0.00010442605831793718, 65: 7.229496345087959e-05, 66: 5.622941601735079e-05, 67: 8.836051088440839e-05, 68: 5.622941601735079e-05, 69: 3.21310948670576e-05, 70: 5.622941601735079e-05, 71: 4.0163868583821995e-05, 72: 7.229496345087959e-05, 73: 5.622941601735079e-05, 74: 5.622941601735079e-05, 75: 5.622941601735079e-05, 76: 6.42621897341152e-05, 77: 4.0163868583821995e-05, 78: 4.0163868583821995e-05, 79: 4.0163868583821995e-05, 80: 4.819664230058639e-05, 81: 4.0163868583821995e-05, 82: 4.0163868583821995e-05, 83: 2.4098321150293196e-05, 84: 3.21310948670576e-05, 85: 3.21310948670576e-05, 86: 3.21310948670576e-05, 87: 2.4098321150293196e-05, 88: 3.21310948670576e-05, 89: 2.4098321150293196e-05, 90: 4.819664230058639e-05, 91: 2.4098321150293196e-05, 92: 1.60655474335288e-05, 94: 4.0163868583821995e-05, 95: 8.0327737167644e-06, 97: 1.60655474335288e-05, 98: 5.622941601735079e-05, 99: 1.60655474335288e-05, 100: 5.622941601735079e-05, 101: 3.21310948670576e-05, 102: 2.4098321150293196e-05, 103: 1.60655474335288e-05, 104: 3.21310948670576e-05, 105: 6.42621897341152e-05, 106: 2.4098321150293196e-05, 107: 1.60655474335288e-05, 108: 1.60655474335288e-05, 109: 1.60655474335288e-05, 110: 1.60655474335288e-05, 111: 9.639328460117278e-05, 112: 3.21310948670576e-05, 113: 2.4098321150293196e-05, 114: 2.4098321150293196e-05, 115: 2.4098321150293196e-05, 116: 8.0327737167644e-06, 117: 8.0327737167644e-06, 118: 1.60655474335288e-05, 119: 1.60655474335288e-05, 120: 8.0327737167644e-06, 121: 1.60655474335288e-05, 122: 1.60655474335288e-05, 123: 8.0327737167644e-06, 124: 1.60655474335288e-05, 125: 1.60655474335288e-05, 126: 2.4098321150293196e-05, 127: 8.0327737167644e-06, 128: 1.60655474335288e-05, 129: 1.60655474335288e-05, 130: 1.60655474335288e-05, 131: 8.0327737167644e-06, 132: 1.60655474335288e-05, 133: 2.4098321150293196e-05, 134: 8.0327737167644e-06, 135: 2.4098321150293196e-05, 136: 1.60655474335288e-05, 536: 8.0327737167644e-06, 138: 8.0327737167644e-06, 139: 8.0327737167644e-06, 142: 8.0327737167644e-06, 143: 8.0327737167644e-06, 144: 2.4098321150293196e-05, 146: 1.60655474335288e-05, 147: 8.0327737167644e-06, 148: 1.60655474335288e-05, 149: 8.0327737167644e-06, 150: 8.0327737167644e-06, 153: 8.0327737167644e-06, 155: 1.60655474335288e-05, 157: 2.4098321150293196e-05, 158: 8.0327737167644e-06, 159: 2.4098321150293196e-05, 160: 2.4098321150293196e-05, 161: 2.4098321150293196e-05, 162: 8.0327737167644e-06, 164: 8.0327737167644e-06, 165: 8.0327737167644e-06, 167: 8.0327737167644e-06, 168: 8.0327737167644e-06, 169: 8.0327737167644e-06, 170: 8.0327737167644e-06, 172: 8.0327737167644e-06, 176: 8.0327737167644e-06, 178: 8.0327737167644e-06, 181: 1.60655474335288e-05, 184: 8.0327737167644e-06, 186: 8.0327737167644e-06, 191: 8.0327737167644e-06, 192: 8.0327737167644e-06, 193: 8.0327737167644e-06, 199: 8.0327737167644e-06, 201: 8.0327737167644e-06, 202: 8.0327737167644e-06, 206: 1.60655474335288e-05, 208: 8.0327737167644e-06, 210: 8.0327737167644e-06, 212: 8.0327737167644e-06, 218: 8.0327737167644e-06, 219: 8.0327737167644e-06, 221: 8.0327737167644e-06, 223: 8.0327737167644e-06, 228: 1.60655474335288e-05, 232: 8.0327737167644e-06, 234: 8.0327737167644e-06, 238: 8.0327737167644e-06, 247: 8.0327737167644e-06, 252: 8.0327737167644e-06, 253: 8.0327737167644e-06, 255: 8.0327737167644e-06, 266: 8.0327737167644e-06, 275: 8.0327737167644e-06, 276: 8.0327737167644e-06, 287: 8.0327737167644e-06, 290: 2.4098321150293196e-05, 299: 8.0327737167644e-06, 302: 8.0327737167644e-06, 303: 8.0327737167644e-06, 307: 8.0327737167644e-06, 311: 8.0327737167644e-06, 317: 8.0327737167644e-06, 340: 8.0327737167644e-06, 348: 8.0327737167644e-06, 353: 8.0327737167644e-06, 364: 8.0327737167644e-06, 373: 8.0327737167644e-06, 411: 8.0327737167644e-06, 462: 8.0327737167644e-06, 463: 8.0327737167644e-06, 464: 8.0327737167644e-06, 472: 8.0327737167644e-06, 473: 8.0327737167644e-06, 483: 8.0327737167644e-06, 487: 8.0327737167644e-06}\n"
     ]
    }
   ],
   "source": [
    "# Extract edge weights\n",
    "weights = [data['weight'] for _, _, data in finished_graph.edges(data=True)]\n",
    "num_edges = len(weights)\n",
    "frequencies = {w: weights.count(w) / num_edges for w in set(weights)}\n",
    "\n",
    "# Cut off the tail for better visualization\n",
    "cutoff = 0.005\n",
    "filtered_frequencies = {k: v for k, v in frequencies.items() if v >= cutoff}\n",
    "\n",
    "# Plot filtered_frequencies with log scale\n",
    "plt.figure(figsize=(10, 6))\n",
    "plt.bar(filtered_frequencies.keys(), filtered_frequencies.values())\n",
    "plt.xlabel('Edge Weight')\n",
    "plt.ylabel('Frequency')\n",
    "plt.yscale('log')\n",
    "plt.title('Distribution of Edge Weights in Finished Graph (Log Scale)')\n",
    "plt.show()\n",
    "\n",
    "print(frequencies)"
   ]
  },
  {
   "cell_type": "markdown",
   "metadata": {},
   "source": [
    "As we can see in the above graph, 57% of the hyperlinks were never clicked by any user, 16% of the hyperlinks were clicked only once and 7% of the hyperlinks were clicked twice. Let's take a closer look at that."
   ]
  },
  {
   "cell_type": "markdown",
   "metadata": {},
   "source": [
    "Below are the 20 most clicked hyperlinks by any user"
   ]
  },
  {
   "cell_type": "code",
   "execution_count": 74,
   "metadata": {},
   "outputs": [
    {
     "name": "stdout",
     "output_type": "stream",
     "text": [
      "Clicked 536 times: Communication -> Telephone\n",
      "Clicked 487 times: North_America -> United_States\n",
      "Clicked 483 times: Animal -> Mammal\n",
      "Clicked 473 times: United_States -> President_of_the_United_States\n",
      "Clicked 472 times: Lion -> Zebra\n",
      "Clicked 464 times: Europe -> United_Kingdom\n",
      "Clicked 463 times: Brain -> Computer_science\n",
      "Clicked 462 times: Mammal -> Zebra\n",
      "Clicked 411 times: Norway -> Viking\n",
      "Clicked 373 times: England -> Europe\n",
      "Clicked 364 times: Seed -> Bean\n",
      "Clicked 353 times: United_Kingdom -> England\n",
      "Clicked 348 times: United_States -> North_America\n",
      "Clicked 340 times: Fish -> Whale_shark\n",
      "Clicked 317 times: Internet -> World_Wide_Web\n",
      "Clicked 311 times: United_States -> <\n",
      "Clicked 307 times: Science -> Chemistry\n",
      "Clicked 303 times: World_War_II -> Adolf_Hitler\n",
      "Clicked 302 times: Computer -> Microsoft_Windows\n",
      "Clicked 299 times: English_language -> United_States\n"
     ]
    }
   ],
   "source": [
    "edges: list[int] = [(u, v, data['weight']) for u, v, data in finished_graph.edges.data()]\n",
    "edges.sort(key= lambda x: x[2], reverse=True)\n",
    "for i in range(20):\n",
    "    print(f\"Clicked {edges[i][2]} times: {edges[i][0]} -> {edges[i][1]}\")"
   ]
  },
  {
   "cell_type": "code",
   "execution_count": null,
   "metadata": {},
   "outputs": [],
   "source": []
  }
 ],
 "metadata": {
  "kernelspec": {
   "display_name": "Python 3 (ipykernel)",
   "language": "python",
   "name": "python3"
  },
  "language_info": {
   "codemirror_mode": {
    "name": "ipython",
    "version": 3
   },
   "file_extension": ".py",
   "mimetype": "text/x-python",
   "name": "python",
   "nbconvert_exporter": "python",
   "pygments_lexer": "ipython3",
   "version": "3.11.2"
  }
 },
 "nbformat": 4,
 "nbformat_minor": 4
}
