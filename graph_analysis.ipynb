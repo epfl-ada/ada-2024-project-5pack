{
 "cells": [
  {
   "cell_type": "code",
   "execution_count": 8,
   "metadata": {},
   "outputs": [
    {
     "name": "stdout",
     "output_type": "stream",
     "text": [
      "The autoreload extension is already loaded. To reload it, use:\n",
      "  %reload_ext autoreload\n"
     ]
    }
   ],
   "source": [
    "%load_ext autoreload\n",
    "%autoreload 2\n",
    "\n",
    "from collections import defaultdict\n",
    "from matplotlib import pyplot as plt\n",
    "\n",
    "import networkx as nx\n",
    "\n",
    "from src.data.graph import load_graph_data"
   ]
  },
  {
   "cell_type": "markdown",
   "metadata": {},
   "source": [
    "# 1. Data loading"
   ]
  },
  {
   "cell_type": "code",
   "execution_count": 9,
   "metadata": {},
   "outputs": [
    {
     "name": "stdout",
     "output_type": "stream",
     "text": [
      "loading raw data from tsv files...\n",
      "formatting articles...\n",
      "formatting categories...\n",
      "formatting links...\n",
      "formatting paths...\n",
      "formatting distance matrix...\n",
      "building graph...\n",
      "\n",
      "Keys:\n",
      "\tpaths_finished    articles    links    shortest-path-distance-matrix    categories    paths_unfinished    graph\n"
     ]
    }
   ],
   "source": [
    "graph_data = load_graph_data()\n",
    "print(\"\\nKeys:\\n\\t{}\".format(\"    \".join(graph_data.keys())))"
   ]
  },
  {
   "cell_type": "code",
   "execution_count": 101,
   "metadata": {},
   "outputs": [],
   "source": [
    "def get_edge_weights(dataframe: str) -> dict[tuple[str, str], int]:\n",
    "    \"\"\"\n",
    "    Return a dictionary where the keys are tuples representing an edge (u, v) and values are the edges weights.\n",
    "    The weight of an edge (u, v) is the number of times users went from u to v in their path.\n",
    "    If a user clicked on '<', the article that was discarded does not contribute to the weight.\n",
    "    \"\"\"\n",
    "    edge_weights: dict[tuple[str, str], int] = defaultdict(int)\n",
    "    \n",
    "    for _, row in graph_data[dataframe].iterrows():\n",
    "        path = row['path']\n",
    "        clean_path = []  # Path without '<'\n",
    "        for element in path:\n",
    "            if element == '<':\n",
    "                edge_weights[(clean_path[-1], '<')] += 1\n",
    "                clean_path.pop()\n",
    "            else:\n",
    "                clean_path.append(element)\n",
    "                \n",
    "        for i in range(1, len(clean_path)):\n",
    "            source, dest = clean_path[i-1], clean_path[i]\n",
    "            edge_weights[(source, dest)] += 1\n",
    "    \n",
    "    assert(sum(edge_weights.values()) == \n",
    "        sum(graph_data[dataframe]['path'].apply(len)) \n",
    "        - sum(graph_data[dataframe]['path'].apply(lambda l: l.count('<')))\n",
    "        - len(graph_data[dataframe]))\n",
    "    \n",
    "    return edge_weights\n",
    "\n",
    "   "
   ]
  },
  {
   "cell_type": "code",
   "execution_count": 102,
   "metadata": {},
   "outputs": [],
   "source": [
    "def get_graph(dataframe: str) -> nx.DiGraph:\n",
    "    \"\"\"\n",
    "    Generates a directed graph from the given dataframe (either 'paths_finished' or 'paths_unfinished').\n",
    "    The nodes of the graph are the articles.\n",
    "    The weight of the edges of the graph represents the number of times users went from one article to another.\n",
    "    A special node '<' is created. \n",
    "    The weight of an edge from u to '<' represents the number of times users clicked on the back button after visiting u.\n",
    "    \"\"\"\n",
    "    graph = nx.DiGraph()\n",
    "    \n",
    "    # Add nodes to graph\n",
    "    graph.add_node('<')\n",
    "    for _, node in graph_data['articles'].iterrows():\n",
    "        graph.add_node(node['name'])\n",
    "        \n",
    "    # Add edges to graph\n",
    "    edge_weights = get_edge_weights(dataframe)\n",
    "    for (source, dest), count in edge_weights.items():\n",
    "        graph.add_edge(source, dest, weight=count)\n",
    "        \n",
    "    assert(graph.number_of_nodes() == len(graph_data['articles']) + 1)\n",
    "    assert(graph.number_of_edges() <= len(graph_data['links']))\n",
    "    return graph"
   ]
  },
  {
   "cell_type": "code",
   "execution_count": 98,
   "metadata": {},
   "outputs": [],
   "source": [
    "finished_graph = get_graph('paths_finished')"
   ]
  }
 ],
 "metadata": {
  "kernelspec": {
   "display_name": "Python 3 (ipykernel)",
   "language": "python",
   "name": "python3"
  },
  "language_info": {
   "codemirror_mode": {
    "name": "ipython",
    "version": 3
   },
   "file_extension": ".py",
   "mimetype": "text/x-python",
   "name": "python",
   "nbconvert_exporter": "python",
   "pygments_lexer": "ipython3",
   "version": "3.11.2"
  }
 },
 "nbformat": 4,
 "nbformat_minor": 4
}
