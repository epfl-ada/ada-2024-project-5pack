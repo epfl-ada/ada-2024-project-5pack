{
 "cells": [
  {
   "cell_type": "markdown",
   "metadata": {},
   "source": [
    "# TITLE"
   ]
  },
  {
   "cell_type": "markdown",
   "metadata": {},
   "source": [
    "1. Hub Navigation Analysis\n",
    "\n",
    "2. Path Efficiency Analysis\n",
    "\n",
    "3. Link Position Impact\n",
    "\n",
    "4. Navigation Strategies"
   ]
  },
  {
   "cell_type": "code",
   "execution_count": null,
   "metadata": {},
   "outputs": [],
   "source": [
    "%load_ext autoreload\n",
    "%autoreload 2"
   ]
  },
  {
   "cell_type": "markdown",
   "metadata": {},
   "source": [
    "### Understanding the data"
   ]
  },
  {
   "cell_type": "markdown",
   "metadata": {},
   "source": [
    "Load and transform some data to make it easy to use"
   ]
  },
  {
   "cell_type": "code",
   "execution_count": null,
   "metadata": {},
   "outputs": [
    {
     "name": "stdout",
     "output_type": "stream",
     "text": [
      "loading raw data from tsv files...\n",
      "formatting articles...\n",
      "formatting categories...\n",
      "formatting links...\n",
      "formatting paths...\n",
      "formatting distance matrix...\n",
      "building graph...\n"
     ]
    }
   ],
   "source": [
    "from src.utils.data_utils import load_graph_data\n",
    "\n",
    "graph_data = load_graph_data()"
   ]
  },
  {
   "cell_type": "code",
   "execution_count": null,
   "metadata": {},
   "outputs": [
    {
     "name": "stdout",
     "output_type": "stream",
     "text": [
      "Keyword                       | Type (shape)          \n",
      "------------------------------------------------------\n",
      "shortest-path-distance-matrix   Array (4604, 4604)    \n",
      "paths_finished                  DataFrame (51318, 8)  \n",
      "articles                        DataFrame (4604, 1)   \n",
      "paths_unfinished                DataFrame (24875, 8)  \n",
      "links                           DataFrame (119882, 2) \n",
      "categories                      DataFrame (5204, 2)   \n",
      "graph                           DiGraph (4604, 119882)\n"
     ]
    }
   ],
   "source": [
    "from src.utils.general_utils import describe_dict\n",
    "\n",
    "describe_dict(graph_data)"
   ]
  },
  {
   "cell_type": "markdown",
   "metadata": {},
   "source": [
    "Represent user paths as a graph"
   ]
  },
  {
   "cell_type": "code",
   "execution_count": null,
   "metadata": {},
   "outputs": [
    {
     "name": "stdout",
     "output_type": "stream",
     "text": [
      "Note that the following edges are present in 'paths_finished' but not in 'links'\n",
      "{('Republic_of_Ireland', 'Éire'), ('Bird', 'Wikipedia_Text_of_the_GNU_Free_Documentation_License'), ('Finland', 'Åland'), ('Claude_Monet', 'Édouard_Manet')}\n",
      "Note that the following edges are present in 'paths_unfinished' but not in 'links'\n",
      "{('Bronze_Age', 'Wikipedia_Text_of_the_GNU_Free_Documentation_License'), ('Microsoft_Windows', 'Wikipedia_Text_of_the_GNU_Free_Documentation_License'), ('Culture', 'Wikipedia_Text_of_the_GNU_Free_Documentation_License'), ('Blackbird', 'Wikipedia_Text_of_the_GNU_Free_Documentation_License'), ('Tony_Blair', 'Wikipedia_Text_of_the_GNU_Free_Documentation_License'), ('Ireland', 'Éire'), ('James_Bond', 'Wikipedia_Text_of_the_GNU_Free_Documentation_License'), ('Accountancy', 'Wikipedia_Text_of_the_GNU_Free_Documentation_License'), ('Fungus', 'Wikipedia_Text_of_the_GNU_Free_Documentation_License'), ('Miguel_de_Cervantes', 'Wikipedia_Text_of_the_GNU_Free_Documentation_License'), (\"Maxwell's_equations\", 'Wikipedia_Text_of_the_GNU_Free_Documentation_License'), ('Red_Sea', 'Wikipedia_Text_of_the_GNU_Free_Documentation_License'), ('The_Lorax', 'Wikipedia_Text_of_the_GNU_Free_Documentation_License'), ('Cat', 'Wikipedia_Text_of_the_GNU_Free_Documentation_License'), ('Islam', 'Wikipedia_Text_of_the_GNU_Free_Documentation_License'), ('Batman', 'Wikipedia_Text_of_the_GNU_Free_Documentation_License'), ('Hydrogen', 'Wikipedia_Text_of_the_GNU_Free_Documentation_License'), ('Georgia_(country)', 'Wikipedia_Text_of_the_GNU_Free_Documentation_License'), ('Open_source', 'Wikipedia_Text_of_the_GNU_Free_Documentation_License'), ('Film', 'Wikipedia_Text_of_the_GNU_Free_Documentation_License'), ('Makuria', 'Wikipedia_Text_of_the_GNU_Free_Documentation_License'), ('Republic_of_Ireland', 'Éire'), ('World_War_I', 'Wikipedia_Text_of_the_GNU_Free_Documentation_License'), ('Technology', 'Wikipedia_Text_of_the_GNU_Free_Documentation_License'), ('Ordinary_differential_equation', 'Wikipedia_Text_of_the_GNU_Free_Documentation_License'), ('San_Francisco,_California', 'Wikipedia_Text_of_the_GNU_Free_Documentation_License'), ('Liverpool_F.C.', 'Wikipedia_Text_of_the_GNU_Free_Documentation_License'), ('Color', 'Wikipedia_Text_of_the_GNU_Free_Documentation_License'), ('History_of_Buddhism', 'Wikipedia_Text_of_the_GNU_Free_Documentation_License'), ('Glass', 'Wikipedia_Text_of_the_GNU_Free_Documentation_License'), ('World_Health_Organization', 'Wikipedia_Text_of_the_GNU_Free_Documentation_License'), ('Household_income_in_the_United_States', 'Wikipedia_Text_of_the_GNU_Free_Documentation_License'), ('Germanium', 'Wikipedia_Text_of_the_GNU_Free_Documentation_License'), ('Dove', 'Wikipedia_Text_of_the_GNU_Free_Documentation_License'), ('Coal', 'Wikipedia_Text_of_the_GNU_Free_Documentation_License'), ('Impressionism', 'Édouard_Manet'), ('Francisco_Goya', 'Édouard_Manet'), ('Manorialism', 'Wikipedia_Text_of_the_GNU_Free_Documentation_License'), ('Cuckmere_Haven', 'Wikipedia_Text_of_the_GNU_Free_Documentation_License'), ('Cleveland,_Ohio', 'Wikipedia_Text_of_the_GNU_Free_Documentation_License'), ('Employment', 'Wikipedia_Text_of_the_GNU_Free_Documentation_License'), ('Blacktip_reef_shark', 'Wikipedia_Text_of_the_GNU_Free_Documentation_License'), ('Autumn', 'Wikipedia_Text_of_the_GNU_Free_Documentation_License'), ('Palm_oil', 'Wikipedia_Text_of_the_GNU_Free_Documentation_License'), ('Cosmic_microwave_background_radiation', 'Wikipedia_Text_of_the_GNU_Free_Documentation_License'), ('Scientific_classification', 'Wikipedia_Text_of_the_GNU_Free_Documentation_License'), ('Jesus', 'Wikipedia_Text_of_the_GNU_Free_Documentation_License'), ('Watercolor_painting', 'Wikipedia_Text_of_the_GNU_Free_Documentation_License'), ('Tuna', 'Wikipedia_Text_of_the_GNU_Free_Documentation_License'), ('The_Fairy-Queen', 'Wikipedia_Text_of_the_GNU_Free_Documentation_License'), ('Peak_District', 'Wikipedia_Text_of_the_GNU_Free_Documentation_License'), ('Ice', 'Wikipedia_Text_of_the_GNU_Free_Documentation_License'), ('Bird', 'Wikipedia_Text_of_the_GNU_Free_Documentation_License'), ('Finland', 'Åland'), ('Finance', 'Wikipedia_Text_of_the_GNU_Free_Documentation_License'), ('Swastika', 'Wikipedia_Text_of_the_GNU_Free_Documentation_License'), ('North_America', 'Wikipedia_Text_of_the_GNU_Free_Documentation_License'), ('Basilica_of_Santa_Maria_degli_Angeli', 'Wikipedia_Text_of_the_GNU_Free_Documentation_License'), ('European_Union', 'Wikipedia_Text_of_the_GNU_Free_Documentation_License'), ('Claude_Monet', 'Édouard_Manet'), ('Cheetah', 'Wikipedia_Text_of_the_GNU_Free_Documentation_License'), ('Juice', 'Wikipedia_Text_of_the_GNU_Free_Documentation_License')}\n"
     ]
    }
   ],
   "source": [
    "from src.data.graph import extract_players_graph\n",
    "\n",
    "finished_paths_graph = extract_players_graph(graph_data, finished=True)\n",
    "unfinished_paths_graph = extract_players_graph(graph_data, finished=False)"
   ]
  },
  {
   "cell_type": "markdown",
   "metadata": {},
   "source": [
    "## Hub Navigation Analysis"
   ]
  },
  {
   "cell_type": "code",
   "execution_count": null,
   "metadata": {},
   "outputs": [],
   "source": [
    "import networkx as nx\n",
    "import numpy as np\n",
    "\n",
    "\n",
    "def compute_hubs(graph):\n",
    "\thubs = nx.hits(graph, normalized=True)[0]\n",
    "\n",
    "\tdistribution = np.array([*hubs.values()])\n",
    "\tmean = np.mean(distribution)\n",
    "\tstd = np.std(distribution)\n",
    "\n",
    "\t# check positive outliers in the hub values\n",
    "\tsignificant_hubs = list(filter(lambda t: t[1] - mean > 8 * std, hubs.items()))\n",
    "\tsignificant_hubs = sorted(significant_hubs, key=lambda t: t[1], reverse=True)\n",
    "\n",
    "\treturn significant_hubs"
   ]
  },
  {
   "cell_type": "code",
   "execution_count": null,
   "metadata": {},
   "outputs": [
    {
     "data": {
      "text/plain": [
       "[('United_States', 0.032523284079864975),\n",
       " ('Europe', 0.019288972404555498),\n",
       " ('United_Kingdom', 0.01558426710929422),\n",
       " ('England', 0.01451206117797305),\n",
       " ('North_America', 0.013763742733676467),\n",
       " ('Earth', 0.012658182958466236),\n",
       " ('World_War_II', 0.009468624468380468),\n",
       " ('English_language', 0.008884412977769705),\n",
       " ('Great_Britain', 0.00714491866845842),\n",
       " ('France', 0.007120542760335704)]"
      ]
     },
     "execution_count": null,
     "metadata": {},
     "output_type": "execute_result"
    }
   ],
   "source": [
    "compute_hubs(finished_paths_graph)"
   ]
  },
  {
   "cell_type": "code",
   "execution_count": null,
   "metadata": {},
   "outputs": [
    {
     "data": {
      "text/plain": [
       "[('United_States', 0.022458430058652494),\n",
       " ('United_Kingdom', 0.011189493299372714),\n",
       " ('England', 0.010328107713851743),\n",
       " ('Europe', 0.009365067575018654),\n",
       " ('Animal', 0.008076413290830507),\n",
       " ('North_America', 0.008043926762033964),\n",
       " ('Mammal', 0.007004155538156378),\n",
       " ('World_War_II', 0.00667763623055239),\n",
       " ('English_language', 0.006385391170843086),\n",
       " ('Earth', 0.005854865711796785)]"
      ]
     },
     "execution_count": null,
     "metadata": {},
     "output_type": "execute_result"
    }
   ],
   "source": [
    "compute_hubs(unfinished_paths_graph)"
   ]
  },
  {
   "cell_type": "code",
   "execution_count": null,
   "metadata": {},
   "outputs": [
    {
     "data": {
      "text/plain": [
       "[('Driving_on_the_left_or_right', 0.0022739309867502878)]"
      ]
     },
     "execution_count": null,
     "metadata": {},
     "output_type": "execute_result"
    }
   ],
   "source": [
    "compute_hubs(graph_data[\"graph\"])"
   ]
  },
  {
   "cell_type": "markdown",
   "metadata": {},
   "source": [
    "## Path Efficiency Analysis"
   ]
  },
  {
   "cell_type": "markdown",
   "metadata": {},
   "source": [
    "\n",
    "   - Compare actual paths with shortest paths found computationally\n",
    "   - Develop metrics for path \"efficiency\" considering both length and completion time\n",
    "   - Create visualization tools for path comparison and analysis\n",
    "   - Analyze distribution of successful vs. abandoned paths"
   ]
  },
  {
   "cell_type": "markdown",
   "metadata": {},
   "source": [
    "## Link Position Impact"
   ]
  },
  {
   "cell_type": "markdown",
   "metadata": {},
   "source": [
    "## Navigation Strategies"
   ]
  }
 ],
 "metadata": {
  "kernelspec": {
   "display_name": ".venv",
   "language": "python",
   "name": "python3"
  },
  "language_info": {
   "codemirror_mode": {
    "name": "ipython",
    "version": 3
   },
   "file_extension": ".py",
   "mimetype": "text/x-python",
   "name": "python",
   "nbconvert_exporter": "python",
   "pygments_lexer": "ipython3"
  }
 },
 "nbformat": 4,
 "nbformat_minor": 2
}
