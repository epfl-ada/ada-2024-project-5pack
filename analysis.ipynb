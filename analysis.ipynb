{
 "cells": [
  {
   "cell_type": "markdown",
   "metadata": {},
   "source": [
    "# Information Pursuit: A Wikispeedia Analysis"
   ]
  },
  {
   "cell_type": "markdown",
   "metadata": {},
   "source": [
    "This notebook developes an in-depth analysis of the `Wikispeedia` dataset. The goal is to identify the characteristics of human navigation paths, and use this knowledge to produce useful insights on how to assess the difficulty of arbitrary pairs of articles, and the downfalls of common human strategies.\n",
    "\n",
    "This study requires advanced inspection of the Wikispeedia network of pages, and the results collected from multiple thousand games.\n",
    "\n",
    "This notebook is divided into four main parts:\n",
    "1. Wikispeedia network analysis\n",
    "2. Path Efficiency Analysis\n",
    "3. Navigation Strategies"
   ]
  },
  {
   "cell_type": "code",
   "execution_count": null,
   "metadata": {},
   "outputs": [],
   "source": [
    "%load_ext autoreload\n",
    "%autoreload 2"
   ]
  },
  {
   "cell_type": "markdown",
   "metadata": {},
   "source": [
    "### Understanding the data\n",
    "\n",
    "Before stepping into the analysis, we first describe briefly the data at hand. This also allows us to show a few transformations that have been done to ease data manipulation."
   ]
  },
  {
   "cell_type": "markdown",
   "metadata": {},
   "source": [
    "Load and transform some data to make it easy to use"
   ]
  },
  {
   "cell_type": "code",
   "execution_count": null,
   "metadata": {},
   "outputs": [
    {
     "name": "stdout",
     "output_type": "stream",
     "text": [
      "loading raw data from tsv files...\n",
      "formatting articles...\n",
      "formatting categories...\n",
      "formatting links...\n",
      "formatting paths...\n",
      "formatting distance matrix...\n",
      "converting distance matrix to dataframe...\n",
      "building graph...\n"
     ]
    }
   ],
   "source": [
    "from src.utils.data_utils import load_graph_data\n",
    "\n",
    "graph_data = load_graph_data()"
   ]
  },
  {
   "cell_type": "code",
   "execution_count": null,
   "metadata": {},
   "outputs": [
    {
     "name": "stdout",
     "output_type": "stream",
     "text": [
      "Keyword                       | Type (shape)          \n",
      "------------------------------------------------------\n",
      "shortest-path-distance-matrix   DataFrame (319476, 1) \n",
      "paths_finished                  DataFrame (51318, 9)  \n",
      "articles                        DataFrame (4604, 1)   \n",
      "paths_unfinished                DataFrame (24875, 9)  \n",
      "links                           DataFrame (119882, 2) \n",
      "categories                      DataFrame (5204, 2)   \n",
      "graph                           DiGraph (4604, 124486)\n"
     ]
    }
   ],
   "source": [
    "from src.utils.general_utils import describe_dict\n",
    "\n",
    "describe_dict(graph_data)"
   ]
  },
  {
   "cell_type": "markdown",
   "metadata": {},
   "source": [
    "### Why analysing human behaviors"
   ]
  },
  {
   "cell_type": "code",
   "execution_count": null,
   "metadata": {},
   "outputs": [
    {
     "data": {
      "text/html": [
       "<div>\n",
       "<style scoped>\n",
       "    .dataframe tbody tr th:only-of-type {\n",
       "        vertical-align: middle;\n",
       "    }\n",
       "\n",
       "    .dataframe tbody tr th {\n",
       "        vertical-align: top;\n",
       "    }\n",
       "\n",
       "    .dataframe thead tr th {\n",
       "        text-align: left;\n",
       "    }\n",
       "\n",
       "    .dataframe thead tr:last-of-type th {\n",
       "        text-align: right;\n",
       "    }\n",
       "</style>\n",
       "<table border=\"1\" class=\"dataframe\">\n",
       "  <thead>\n",
       "    <tr>\n",
       "      <th></th>\n",
       "      <th></th>\n",
       "      <th colspan=\"8\" halign=\"left\">path_length</th>\n",
       "      <th>shortest_distance</th>\n",
       "    </tr>\n",
       "    <tr>\n",
       "      <th></th>\n",
       "      <th></th>\n",
       "      <th>count</th>\n",
       "      <th>mean</th>\n",
       "      <th>std</th>\n",
       "      <th>min</th>\n",
       "      <th>25%</th>\n",
       "      <th>50%</th>\n",
       "      <th>75%</th>\n",
       "      <th>max</th>\n",
       "      <th></th>\n",
       "    </tr>\n",
       "    <tr>\n",
       "      <th>source</th>\n",
       "      <th>target</th>\n",
       "      <th></th>\n",
       "      <th></th>\n",
       "      <th></th>\n",
       "      <th></th>\n",
       "      <th></th>\n",
       "      <th></th>\n",
       "      <th></th>\n",
       "      <th></th>\n",
       "      <th></th>\n",
       "    </tr>\n",
       "  </thead>\n",
       "  <tbody>\n",
       "    <tr>\n",
       "      <th rowspan=\"2\" valign=\"top\">10th_century</th>\n",
       "      <th>11th_century</th>\n",
       "      <td>3.0</td>\n",
       "      <td>2.000000</td>\n",
       "      <td>0.000000</td>\n",
       "      <td>2.0</td>\n",
       "      <td>2.0</td>\n",
       "      <td>2.0</td>\n",
       "      <td>2.0</td>\n",
       "      <td>2.0</td>\n",
       "      <td>1.0</td>\n",
       "    </tr>\n",
       "    <tr>\n",
       "      <th>Country</th>\n",
       "      <td>1.0</td>\n",
       "      <td>3.000000</td>\n",
       "      <td>NaN</td>\n",
       "      <td>3.0</td>\n",
       "      <td>3.0</td>\n",
       "      <td>3.0</td>\n",
       "      <td>3.0</td>\n",
       "      <td>3.0</td>\n",
       "      <td>2.0</td>\n",
       "    </tr>\n",
       "    <tr>\n",
       "      <th rowspan=\"3\" valign=\"top\">14th_century</th>\n",
       "      <th>African_slave_trade</th>\n",
       "      <td>3.0</td>\n",
       "      <td>7.333333</td>\n",
       "      <td>2.081666</td>\n",
       "      <td>5.0</td>\n",
       "      <td>6.5</td>\n",
       "      <td>8.0</td>\n",
       "      <td>8.5</td>\n",
       "      <td>9.0</td>\n",
       "      <td>3.0</td>\n",
       "    </tr>\n",
       "    <tr>\n",
       "      <th>Elizabeth_I_of_England</th>\n",
       "      <td>4.0</td>\n",
       "      <td>7.500000</td>\n",
       "      <td>5.744563</td>\n",
       "      <td>4.0</td>\n",
       "      <td>4.0</td>\n",
       "      <td>5.0</td>\n",
       "      <td>8.5</td>\n",
       "      <td>16.0</td>\n",
       "      <td>2.0</td>\n",
       "    </tr>\n",
       "    <tr>\n",
       "      <th>Fire</th>\n",
       "      <td>1.0</td>\n",
       "      <td>4.000000</td>\n",
       "      <td>NaN</td>\n",
       "      <td>4.0</td>\n",
       "      <td>4.0</td>\n",
       "      <td>4.0</td>\n",
       "      <td>4.0</td>\n",
       "      <td>4.0</td>\n",
       "      <td>3.0</td>\n",
       "    </tr>\n",
       "    <tr>\n",
       "      <th>...</th>\n",
       "      <th>...</th>\n",
       "      <td>...</td>\n",
       "      <td>...</td>\n",
       "      <td>...</td>\n",
       "      <td>...</td>\n",
       "      <td>...</td>\n",
       "      <td>...</td>\n",
       "      <td>...</td>\n",
       "      <td>...</td>\n",
       "      <td>...</td>\n",
       "    </tr>\n",
       "    <tr>\n",
       "      <th rowspan=\"5\" valign=\"top\">Zirconium</th>\n",
       "      <th>Hebrew_calendar</th>\n",
       "      <td>1.0</td>\n",
       "      <td>5.000000</td>\n",
       "      <td>NaN</td>\n",
       "      <td>5.0</td>\n",
       "      <td>5.0</td>\n",
       "      <td>5.0</td>\n",
       "      <td>5.0</td>\n",
       "      <td>5.0</td>\n",
       "      <td>3.0</td>\n",
       "    </tr>\n",
       "    <tr>\n",
       "      <th>Magna_Carta</th>\n",
       "      <td>1.0</td>\n",
       "      <td>4.000000</td>\n",
       "      <td>NaN</td>\n",
       "      <td>4.0</td>\n",
       "      <td>4.0</td>\n",
       "      <td>4.0</td>\n",
       "      <td>4.0</td>\n",
       "      <td>4.0</td>\n",
       "      <td>3.0</td>\n",
       "    </tr>\n",
       "    <tr>\n",
       "      <th>Robinson_Crusoe</th>\n",
       "      <td>1.0</td>\n",
       "      <td>10.000000</td>\n",
       "      <td>NaN</td>\n",
       "      <td>10.0</td>\n",
       "      <td>10.0</td>\n",
       "      <td>10.0</td>\n",
       "      <td>10.0</td>\n",
       "      <td>10.0</td>\n",
       "      <td>4.0</td>\n",
       "    </tr>\n",
       "    <tr>\n",
       "      <th>United_Kingdom</th>\n",
       "      <td>1.0</td>\n",
       "      <td>4.000000</td>\n",
       "      <td>NaN</td>\n",
       "      <td>4.0</td>\n",
       "      <td>4.0</td>\n",
       "      <td>4.0</td>\n",
       "      <td>4.0</td>\n",
       "      <td>4.0</td>\n",
       "      <td>2.0</td>\n",
       "    </tr>\n",
       "    <tr>\n",
       "      <th>Ununbium</th>\n",
       "      <td>1.0</td>\n",
       "      <td>3.000000</td>\n",
       "      <td>NaN</td>\n",
       "      <td>3.0</td>\n",
       "      <td>3.0</td>\n",
       "      <td>3.0</td>\n",
       "      <td>3.0</td>\n",
       "      <td>3.0</td>\n",
       "      <td>2.0</td>\n",
       "    </tr>\n",
       "  </tbody>\n",
       "</table>\n",
       "<p>5585 rows × 9 columns</p>\n",
       "</div>"
      ],
      "text/plain": [
       "                                    path_length                             \\\n",
       "                                          count       mean       std   min   \n",
       "source       target                                                          \n",
       "10th_century 11th_century                   3.0   2.000000  0.000000   2.0   \n",
       "             Country                        1.0   3.000000       NaN   3.0   \n",
       "14th_century African_slave_trade            3.0   7.333333  2.081666   5.0   \n",
       "             Elizabeth_I_of_England         4.0   7.500000  5.744563   4.0   \n",
       "             Fire                           1.0   4.000000       NaN   4.0   \n",
       "...                                         ...        ...       ...   ...   \n",
       "Zirconium    Hebrew_calendar                1.0   5.000000       NaN   5.0   \n",
       "             Magna_Carta                    1.0   4.000000       NaN   4.0   \n",
       "             Robinson_Crusoe                1.0  10.000000       NaN  10.0   \n",
       "             United_Kingdom                 1.0   4.000000       NaN   4.0   \n",
       "             Ununbium                       1.0   3.000000       NaN   3.0   \n",
       "\n",
       "                                                            shortest_distance  \n",
       "                                      25%   50%   75%   max                    \n",
       "source       target                                                            \n",
       "10th_century 11th_century             2.0   2.0   2.0   2.0               1.0  \n",
       "             Country                  3.0   3.0   3.0   3.0               2.0  \n",
       "14th_century African_slave_trade      6.5   8.0   8.5   9.0               3.0  \n",
       "             Elizabeth_I_of_England   4.0   5.0   8.5  16.0               2.0  \n",
       "             Fire                     4.0   4.0   4.0   4.0               3.0  \n",
       "...                                   ...   ...   ...   ...               ...  \n",
       "Zirconium    Hebrew_calendar          5.0   5.0   5.0   5.0               3.0  \n",
       "             Magna_Carta              4.0   4.0   4.0   4.0               3.0  \n",
       "             Robinson_Crusoe         10.0  10.0  10.0  10.0               4.0  \n",
       "             United_Kingdom           4.0   4.0   4.0   4.0               2.0  \n",
       "             Ununbium                 3.0   3.0   3.0   3.0               2.0  \n",
       "\n",
       "[5585 rows x 9 columns]"
      ]
     },
     "execution_count": null,
     "metadata": {},
     "output_type": "execute_result"
    }
   ],
   "source": [
    "# Show differences between paths and shortest paths\n",
    "\n",
    "paths_info = graph_data[\"paths_finished\"][[\"hashedIpAddress\", \"timestamp\", \"path_length\", \"source\", \"target\"]].copy()\n",
    "paths_info.sort_values(by=\"timestamp\", inplace=True)\n",
    "\n",
    "# only take first path of every player\n",
    "paths_info = paths_info.groupby([\"source\", \"target\", \"hashedIpAddress\"], as_index=False).first()\n",
    "\n",
    "paths_info = paths_info[[\"source\", \"target\", \"path_length\"]]\n",
    "paths_info = paths_info.groupby([\"source\", \"target\"]).describe()\n",
    "\n",
    "paths_info[\"shortest_distance\"] = graph_data[\"shortest-path-distance-matrix\"][\"optimal_path_length\"]\n",
    "\n",
    "# remove one special case where shortest_distance is nan\n",
    "paths_info = paths_info[lambda df: ~df.shortest_distance.isna()]\n",
    "\n",
    "paths_info"
   ]
  },
  {
   "cell_type": "code",
   "execution_count": null,
   "metadata": {},
   "outputs": [
    {
     "data": {
      "text/plain": [
       "<Axes: title={'center': 'Comparison of encountered vs optimal path lengths'}, xlabel='Average path length of players', ylabel='Optimal length'>"
      ]
     },
     "execution_count": null,
     "metadata": {},
     "output_type": "execute_result"
    },
    {
     "data": {
      "image/png": "[encoded data removed]",
      "text/plain": [
       "<Figure size 640x480 with 2 Axes>"
      ]
     },
     "metadata": {},
     "output_type": "display_data"
    }
   ],
   "source": [
    "paths_info.plot.hexbin(\n",
    "\tx=(\"path_length\", \"mean\"),\n",
    "\ty=\"shortest_distance\",\n",
    "\ttitle=\"Comparison of encountered vs optimal path lengths\",\n",
    "\txlabel=\"Average path length of players\",\n",
    "\tylabel=\"Optimal length\",\n",
    "\tgridsize=50,\n",
    "\tbins=\"log\",\n",
    "\tcmap=\"plasma\",\n",
    ")"
   ]
  },
  {
   "cell_type": "code",
   "execution_count": null,
   "metadata": {},
   "outputs": [
    {
     "name": "stdout",
     "output_type": "stream",
     "text": [
      "PearsonRResult(statistic=np.float64(0.48137486194062207), pvalue=np.float64(5.93e-322))\n"
     ]
    }
   ],
   "source": [
    "from scipy import stats\n",
    "\n",
    "print(stats.pearsonr(paths_info[(\"path_length\", \"mean\")], paths_info[\"shortest_distance\"]))"
   ]
  },
  {
   "cell_type": "markdown",
   "metadata": {},
   "source": [
    "## Wikispeedia network analysis"
   ]
  },
  {
   "cell_type": "markdown",
   "metadata": {},
   "source": [
    "It seems quite reasonable to hypothetized that humans navigate the pages of the Wikispeedia website based on relationships existing between the target article concept and the content of the articles found along the way. In order to reason about these semantic relations, humans abstract ideas and form their inner world model, making internalizing concepts efficient and smooth.\n",
    "\n",
    "In this analysis, we verify if an intuitive top-down approach is indeed the most prevalent strategy of the players.\n",
    "\n",
    "*Do players have a tendancy to over-utilize hubs of the Wikispeedia networks?*\\\n",
    "*Is this strategy usually paying-off?*"
   ]
  },
  {
   "cell_type": "code",
   "execution_count": null,
   "metadata": {},
   "outputs": [],
   "source": [
    "import networkx as nx\n",
    "import numpy as np\n",
    "\n",
    "\n",
    "def compute_hubs(graph):\n",
    "\thubs = nx.hits(graph, normalized=True)[0]\n",
    "\n",
    "\tdistribution = np.array([*hubs.values()])\n",
    "\tmean = np.mean(distribution)\n",
    "\tstd = np.std(distribution)\n",
    "\n",
    "\t# check positive outliers in the hub values\n",
    "\tsignificant_hubs = list(filter(lambda t: t[1] - mean > 8 * std, hubs.items()))\n",
    "\tsignificant_hubs = sorted(significant_hubs, key=lambda t: t[1], reverse=True)\n",
    "\n",
    "\treturn significant_hubs"
   ]
  },
  {
   "cell_type": "code",
   "execution_count": null,
   "metadata": {},
   "outputs": [
    {
     "data": {
      "text/plain": [
       "[('Driving_on_the_left_or_right', 0.0013171632208290821)]"
      ]
     },
     "execution_count": null,
     "metadata": {},
     "output_type": "execute_result"
    }
   ],
   "source": [
    "compute_hubs(graph_data[\"graph\"])"
   ]
  },
  {
   "cell_type": "code",
   "execution_count": null,
   "metadata": {},
   "outputs": [],
   "source": [
    "# TODO: Fred code."
   ]
  },
  {
   "cell_type": "markdown",
   "metadata": {},
   "source": [
    "## Path Efficiency Analysis"
   ]
  },
  {
   "cell_type": "markdown",
   "metadata": {},
   "source": [
    "Lorem ipsum dolor sit amet, consectetur adipiscing elit. Ut fermentum pretium nibh quis accumsan. In at nunc mauris. Integer varius ante non massa pharetra auctor. Interdum et malesuada fames ac ante ipsum primis in faucibus. Sed sit amet commodo nunc. Nulla felis enim, lobortis ut pharetra quis, bibendum sed nunc. Quisque accumsan sapien ac vehicula pretium. Maecenas quis tellus hendrerit, bibendum felis at, iaculis odio. Nullam sed fringilla lorem. Morbi nunc orci, fringilla vel semper dapibus, blandit quis lacus. Pellentesque habitant morbi tristique senectus et netus et malesuada fames ac turpis egestas."
   ]
  },
  {
   "cell_type": "markdown",
   "metadata": {},
   "source": [
    "\n",
    "   - Compare actual paths with shortest paths found computationally\n",
    "   - Develop metrics for path \"efficiency\" considering both length and completion time\n",
    "   - Create visualization tools for path comparison and analysis\n",
    "   - Analyze distribution of successful vs. abandoned paths"
   ]
  },
  {
   "cell_type": "code",
   "execution_count": null,
   "metadata": {},
   "outputs": [],
   "source": [
    "# TODO: Peter code\n",
    "\n",
    "# p-values and stuff. logits"
   ]
  },
  {
   "cell_type": "code",
   "execution_count": null,
   "metadata": {},
   "outputs": [],
   "source": [
    "# TODO: Gabriel code\n",
    "\n",
    "# Graphs and stuff\n",
    "# people tired => people bad"
   ]
  },
  {
   "cell_type": "markdown",
   "metadata": {},
   "source": [
    "## Navigation Strategies"
   ]
  },
  {
   "cell_type": "markdown",
   "metadata": {},
   "source": [
    "It seems quite reasonable to hypothetized that humans navigate the pages of the Wikispeedia website based on relationships existing between the target article concept and the content of the articles found along the way. In order to reason about these semantic relations, humans abstract ideas and form their inner world model, making internalizing concepts efficient and smooth.\n",
    "\n",
    "In this analysis, we verify if an intuitive top-down approach is indeed the most prevalent strategy of the players.\n",
    "\n",
    "*Do players have a tendancy to over-utilize hubs of the Wikispeedia networks?*\\\n",
    "*Is this strategy usually paying-off?*"
   ]
  },
  {
   "cell_type": "markdown",
   "metadata": {},
   "source": [
    "### Top-down approach"
   ]
  },
  {
   "cell_type": "markdown",
   "metadata": {},
   "source": [
    "Represent user paths as a graph"
   ]
  },
  {
   "cell_type": "code",
   "execution_count": null,
   "metadata": {},
   "outputs": [
    {
     "name": "stdout",
     "output_type": "stream",
     "text": [
      "Note that 4 edges are present in 'paths_finished.tsv' but not in 'links.tsv':\n",
      "{('Bird', 'Wikipedia_Text_of_the_GNU_Free_Documentation_License'), ('Republic_of_Ireland', 'Éire'), ('Finland', 'Åland'), ('Claude_Monet', 'Édouard_Manet')}\n",
      "Note that 62 edges are present in 'paths_unfinished.tsv' but not in 'links.tsv':\n",
      "{('Household_income_in_the_United_States', 'Wikipedia_Text_of_the_GNU_Free_Documentation_License'), ('Batman', 'Wikipedia_Text_of_the_GNU_Free_Documentation_License'), ('Cosmic_microwave_background_radiation', 'Wikipedia_Text_of_the_GNU_Free_Documentation_License'), ('Ireland', 'Éire'), ('Film', 'Wikipedia_Text_of_the_GNU_Free_Documentation_License'), ('Blackbird', 'Wikipedia_Text_of_the_GNU_Free_Documentation_License'), ('Tuna', 'Wikipedia_Text_of_the_GNU_Free_Documentation_License'), ('Peak_District', 'Wikipedia_Text_of_the_GNU_Free_Documentation_License'), ('Makuria', 'Wikipedia_Text_of_the_GNU_Free_Documentation_License'), ('Francisco_Goya', 'Édouard_Manet'), ('Color', 'Wikipedia_Text_of_the_GNU_Free_Documentation_License'), ('World_Health_Organization', 'Wikipedia_Text_of_the_GNU_Free_Documentation_License'), ('Juice', 'Wikipedia_Text_of_the_GNU_Free_Documentation_License'), ('Basilica_of_Santa_Maria_degli_Angeli', 'Wikipedia_Text_of_the_GNU_Free_Documentation_License'), ('Bronze_Age', 'Wikipedia_Text_of_the_GNU_Free_Documentation_License'), ('James_Bond', 'Wikipedia_Text_of_the_GNU_Free_Documentation_License'), ('Coal', 'Wikipedia_Text_of_the_GNU_Free_Documentation_License'), ('Cleveland,_Ohio', 'Wikipedia_Text_of_the_GNU_Free_Documentation_License'), ('Finance', 'Wikipedia_Text_of_the_GNU_Free_Documentation_License'), ('The_Fairy-Queen', 'Wikipedia_Text_of_the_GNU_Free_Documentation_License'), ('European_Union', 'Wikipedia_Text_of_the_GNU_Free_Documentation_License'), ('Manorialism', 'Wikipedia_Text_of_the_GNU_Free_Documentation_License'), ('Glass', 'Wikipedia_Text_of_the_GNU_Free_Documentation_License'), ('Autumn', 'Wikipedia_Text_of_the_GNU_Free_Documentation_License'), ('Germanium', 'Wikipedia_Text_of_the_GNU_Free_Documentation_License'), ('Blacktip_reef_shark', 'Wikipedia_Text_of_the_GNU_Free_Documentation_License'), ('North_America', 'Wikipedia_Text_of_the_GNU_Free_Documentation_License'), ('Finland', 'Åland'), ('Watercolor_painting', 'Wikipedia_Text_of_the_GNU_Free_Documentation_License'), ('Claude_Monet', 'Édouard_Manet'), ('Liverpool_F.C.', 'Wikipedia_Text_of_the_GNU_Free_Documentation_License'), ('Cuckmere_Haven', 'Wikipedia_Text_of_the_GNU_Free_Documentation_License'), ('Cat', 'Wikipedia_Text_of_the_GNU_Free_Documentation_License'), ('Microsoft_Windows', 'Wikipedia_Text_of_the_GNU_Free_Documentation_License'), ('Red_Sea', 'Wikipedia_Text_of_the_GNU_Free_Documentation_License'), ('Palm_oil', 'Wikipedia_Text_of_the_GNU_Free_Documentation_License'), ('Islam', 'Wikipedia_Text_of_the_GNU_Free_Documentation_License'), ('Accountancy', 'Wikipedia_Text_of_the_GNU_Free_Documentation_License'), ('Employment', 'Wikipedia_Text_of_the_GNU_Free_Documentation_License'), ('Impressionism', 'Édouard_Manet'), ('Miguel_de_Cervantes', 'Wikipedia_Text_of_the_GNU_Free_Documentation_License'), ('Cheetah', 'Wikipedia_Text_of_the_GNU_Free_Documentation_License'), ('Republic_of_Ireland', 'Éire'), ('Ordinary_differential_equation', 'Wikipedia_Text_of_the_GNU_Free_Documentation_License'), ('Culture', 'Wikipedia_Text_of_the_GNU_Free_Documentation_License'), ('Hydrogen', 'Wikipedia_Text_of_the_GNU_Free_Documentation_License'), ('Open_source', 'Wikipedia_Text_of_the_GNU_Free_Documentation_License'), ('Technology', 'Wikipedia_Text_of_the_GNU_Free_Documentation_License'), ('San_Francisco,_California', 'Wikipedia_Text_of_the_GNU_Free_Documentation_License'), ('Bird', 'Wikipedia_Text_of_the_GNU_Free_Documentation_License'), ('Scientific_classification', 'Wikipedia_Text_of_the_GNU_Free_Documentation_License'), ('Dove', 'Wikipedia_Text_of_the_GNU_Free_Documentation_License'), (\"Maxwell's_equations\", 'Wikipedia_Text_of_the_GNU_Free_Documentation_License'), ('World_War_I', 'Wikipedia_Text_of_the_GNU_Free_Documentation_License'), ('Ice', 'Wikipedia_Text_of_the_GNU_Free_Documentation_License'), ('The_Lorax', 'Wikipedia_Text_of_the_GNU_Free_Documentation_License'), ('History_of_Buddhism', 'Wikipedia_Text_of_the_GNU_Free_Documentation_License'), ('Georgia_(country)', 'Wikipedia_Text_of_the_GNU_Free_Documentation_License'), ('Jesus', 'Wikipedia_Text_of_the_GNU_Free_Documentation_License'), ('Tony_Blair', 'Wikipedia_Text_of_the_GNU_Free_Documentation_License'), ('Swastika', 'Wikipedia_Text_of_the_GNU_Free_Documentation_License'), ('Fungus', 'Wikipedia_Text_of_the_GNU_Free_Documentation_License')}\n"
     ]
    }
   ],
   "source": [
    "from src.data.graph import extract_players_graph\n",
    "\n",
    "finished_paths_graph = extract_players_graph(graph_data, paths_finished=True)\n",
    "unfinished_paths_graph = extract_players_graph(graph_data, paths_finished=False)"
   ]
  },
  {
   "cell_type": "code",
   "execution_count": null,
   "metadata": {},
   "outputs": [
    {
     "data": {
      "text/plain": [
       "[('United_States', 0.03252328407986499),\n",
       " ('Europe', 0.019288972404555495),\n",
       " ('United_Kingdom', 0.015584267109294218),\n",
       " ('England', 0.014512061177973046),\n",
       " ('North_America', 0.01376374273367645),\n",
       " ('Earth', 0.012658182958466225),\n",
       " ('World_War_II', 0.009468624468380454),\n",
       " ('English_language', 0.008884412977769693),\n",
       " ('Great_Britain', 0.007144918668458417),\n",
       " ('France', 0.0071205427603357)]"
      ]
     },
     "execution_count": null,
     "metadata": {},
     "output_type": "execute_result"
    }
   ],
   "source": [
    "compute_hubs(finished_paths_graph)"
   ]
  },
  {
   "cell_type": "code",
   "execution_count": null,
   "metadata": {},
   "outputs": [
    {
     "data": {
      "text/plain": [
       "[('United_States', 0.02245843005865249),\n",
       " ('United_Kingdom', 0.01118949329937272),\n",
       " ('England', 0.010328107713851743),\n",
       " ('Europe', 0.009365067575018654),\n",
       " ('Animal', 0.008076413290830507),\n",
       " ('North_America', 0.008043926762033967),\n",
       " ('Mammal', 0.007004155538156377),\n",
       " ('World_War_II', 0.0066776362305523895),\n",
       " ('English_language', 0.006385391170843087),\n",
       " ('Earth', 0.005854865711796787)]"
      ]
     },
     "execution_count": null,
     "metadata": {},
     "output_type": "execute_result"
    }
   ],
   "source": [
    "compute_hubs(unfinished_paths_graph)"
   ]
  },
  {
   "cell_type": "code",
   "execution_count": null,
   "metadata": {},
   "outputs": [],
   "source": [
    "# TODO: Timothée code."
   ]
  },
  {
   "cell_type": "markdown",
   "metadata": {},
   "source": [
    "### Link Position Impact"
   ]
  },
  {
   "cell_type": "markdown",
   "metadata": {},
   "source": [
    "Lorem ipsum dolor sit amet, consectetur adipiscing elit. Ut fermentum pretium nibh quis accumsan. In at nunc mauris. Integer varius ante non massa pharetra auctor. Interdum et malesuada fames ac ante ipsum primis in faucibus. Sed sit amet commodo nunc. Nulla felis enim, lobortis ut pharetra quis, bibendum sed nunc. Quisque accumsan sapien ac vehicula pretium. Maecenas quis tellus hendrerit, bibendum felis at, iaculis odio. Nullam sed fringilla lorem. Morbi nunc orci, fringilla vel semper dapibus, blandit quis lacus. Pellentesque habitant morbi tristique senectus et netus et malesuada fames ac turpis egestas."
   ]
  },
  {
   "cell_type": "code",
   "execution_count": null,
   "metadata": {},
   "outputs": [],
   "source": [
    "# TODO: Timothée code"
   ]
  },
  {
   "cell_type": "markdown",
   "metadata": {},
   "source": [
    "## Conclusion"
   ]
  },
  {
   "cell_type": "markdown",
   "metadata": {},
   "source": [
    "Lorem ipsum dolor sit amet, consectetur adipiscing elit. Ut fermentum pretium nibh quis accumsan. In at nunc mauris. Integer varius ante non massa pharetra auctor. Interdum et malesuada fames ac ante ipsum primis in faucibus. Sed sit amet commodo nunc. Nulla felis enim, lobortis ut pharetra quis, bibendum sed nunc. Quisque accumsan sapien ac vehicula pretium. Maecenas quis tellus hendrerit, bibendum felis at, iaculis odio. Nullam sed fringilla lorem. Morbi nunc orci, fringilla vel semper dapibus, blandit quis lacus. Pellentesque habitant morbi tristique senectus et netus et malesuada fames ac turpis egestas."
   ]
  }
 ],
 "metadata": {
  "kernelspec": {
   "display_name": ".venv",
   "language": "python",
   "name": "python3"
  },
  "language_info": {
   "codemirror_mode": {
    "name": "ipython",
    "version": 3
   },
   "file_extension": ".py",
   "mimetype": "text/x-python",
   "name": "python",
   "nbconvert_exporter": "python",
   "pygments_lexer": "ipython3"
  }
 },
 "nbformat": 4,
 "nbformat_minor": 2
}
