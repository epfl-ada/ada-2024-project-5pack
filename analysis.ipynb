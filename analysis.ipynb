{
 "cells": [
  {
   "cell_type": "markdown",
   "metadata": {},
   "source": [
    "# Information Pursuit: A Wikispeedia Analysis"
   ]
  },
  {
   "cell_type": "markdown",
   "metadata": {},
   "source": [
    "This notebook developes an in-depth analysis of the `Wikispeedia` dataset. The goal is to identify the characteristics of human navigation paths, and use this knowledge to produce useful insights on how to assess the difficulty of arbitrary pairs of articles, and the downfalls of common human strategies.\n",
    "\n",
    "This study requires advanced inspection of the Wikispeedia network of pages, and the results collected from multiple thousand games.\n",
    "\n",
    "This notebook is divided into four main parts:\n",
    "1. Wikispeedia network analysis\n",
    "2. Path Efficiency Analysis\n",
    "3. Navigation Strategies"
   ]
  },
  {
   "cell_type": "code",
   "execution_count": 1,
   "metadata": {},
   "outputs": [],
   "source": [
    "%load_ext autoreload\n",
    "%autoreload 2"
   ]
  },
  {
   "cell_type": "markdown",
   "metadata": {},
   "source": [
    "### Understanding the data\n",
    "\n",
    "Before stepping into the analysis, we first describe briefly the data at hand. This also allows us to show a few transformations that have been done to ease data manipulation."
   ]
  },
  {
   "cell_type": "markdown",
   "metadata": {},
   "source": [
    "Load and transform some data to make it easy to use"
   ]
  },
  {
   "cell_type": "code",
   "execution_count": 2,
   "metadata": {},
   "outputs": [
    {
     "name": "stderr",
     "output_type": "stream",
     "text": [
      "2024-11-15 15:37:31,712 - src.utils - INFO - loading raw data from tsv files...\n",
      "2024-11-15 15:37:32,246 - src.utils - INFO - formatting articles...\n",
      "2024-11-15 15:37:32,251 - src.utils - INFO - formatting categories...\n",
      "2024-11-15 15:37:32,259 - src.utils - INFO - formatting links...\n",
      "2024-11-15 15:37:32,380 - src.utils - INFO - formatting paths...\n",
      "2024-11-15 15:37:32,771 - src.utils - INFO - formatting distance matrix...\n",
      "2024-11-15 15:37:37,821 - src.utils - INFO - converting distance matrix to dataframe...\n",
      "2024-11-15 15:37:44,418 - src.utils - INFO - building graph...\n"
     ]
    }
   ],
   "source": [
    "from src.utils.data_utils import load_graph_data\n",
    "\n",
    "graph_data = load_graph_data()"
   ]
  },
  {
   "cell_type": "code",
   "execution_count": 3,
   "metadata": {},
   "outputs": [
    {
     "name": "stdout",
     "output_type": "stream",
     "text": [
      "Keyword                       | Type (shape)          \n",
      "------------------------------------------------------\n",
      "articles                        DataFrame (4604, 1)   \n",
      "categories                      DataFrame (5204, 2)   \n",
      "links                           DataFrame (119882, 2) \n",
      "paths_finished                  DataFrame (51318, 9)  \n",
      "paths_unfinished                DataFrame (24875, 9)  \n",
      "shortest-path-distance-matrix   DataFrame (319476, 1) \n",
      "graph                           DiGraph (4604, 124486)\n"
     ]
    }
   ],
   "source": [
    "from src.utils.general_utils import describe_dict\n",
    "\n",
    "describe_dict(graph_data)"
   ]
  },
  {
   "cell_type": "markdown",
   "metadata": {},
   "source": [
    "### Why analysing human behaviors"
   ]
  },
  {
   "cell_type": "code",
   "execution_count": 4,
   "metadata": {},
   "outputs": [
    {
     "data": {
      "text/html": [
       "<div>\n",
       "<style scoped>\n",
       "    .dataframe tbody tr th:only-of-type {\n",
       "        vertical-align: middle;\n",
       "    }\n",
       "\n",
       "    .dataframe tbody tr th {\n",
       "        vertical-align: top;\n",
       "    }\n",
       "\n",
       "    .dataframe thead tr th {\n",
       "        text-align: left;\n",
       "    }\n",
       "\n",
       "    .dataframe thead tr:last-of-type th {\n",
       "        text-align: right;\n",
       "    }\n",
       "</style>\n",
       "<table border=\"1\" class=\"dataframe\">\n",
       "  <thead>\n",
       "    <tr>\n",
       "      <th></th>\n",
       "      <th></th>\n",
       "      <th colspan=\"8\" halign=\"left\">path_length</th>\n",
       "      <th>shortest_distance</th>\n",
       "    </tr>\n",
       "    <tr>\n",
       "      <th></th>\n",
       "      <th></th>\n",
       "      <th>count</th>\n",
       "      <th>mean</th>\n",
       "      <th>std</th>\n",
       "      <th>min</th>\n",
       "      <th>25%</th>\n",
       "      <th>50%</th>\n",
       "      <th>75%</th>\n",
       "      <th>max</th>\n",
       "      <th></th>\n",
       "    </tr>\n",
       "    <tr>\n",
       "      <th>source</th>\n",
       "      <th>target</th>\n",
       "      <th></th>\n",
       "      <th></th>\n",
       "      <th></th>\n",
       "      <th></th>\n",
       "      <th></th>\n",
       "      <th></th>\n",
       "      <th></th>\n",
       "      <th></th>\n",
       "      <th></th>\n",
       "    </tr>\n",
       "  </thead>\n",
       "  <tbody>\n",
       "    <tr>\n",
       "      <th rowspan=\"2\" valign=\"top\">10th_century</th>\n",
       "      <th>11th_century</th>\n",
       "      <td>3.0</td>\n",
       "      <td>2.000000</td>\n",
       "      <td>0.000000</td>\n",
       "      <td>2.0</td>\n",
       "      <td>2.0</td>\n",
       "      <td>2.0</td>\n",
       "      <td>2.0</td>\n",
       "      <td>2.0</td>\n",
       "      <td>1.0</td>\n",
       "    </tr>\n",
       "    <tr>\n",
       "      <th>Country</th>\n",
       "      <td>1.0</td>\n",
       "      <td>3.000000</td>\n",
       "      <td>NaN</td>\n",
       "      <td>3.0</td>\n",
       "      <td>3.0</td>\n",
       "      <td>3.0</td>\n",
       "      <td>3.0</td>\n",
       "      <td>3.0</td>\n",
       "      <td>2.0</td>\n",
       "    </tr>\n",
       "    <tr>\n",
       "      <th rowspan=\"3\" valign=\"top\">14th_century</th>\n",
       "      <th>African_slave_trade</th>\n",
       "      <td>3.0</td>\n",
       "      <td>7.333333</td>\n",
       "      <td>2.081666</td>\n",
       "      <td>5.0</td>\n",
       "      <td>6.5</td>\n",
       "      <td>8.0</td>\n",
       "      <td>8.5</td>\n",
       "      <td>9.0</td>\n",
       "      <td>3.0</td>\n",
       "    </tr>\n",
       "    <tr>\n",
       "      <th>Elizabeth_I_of_England</th>\n",
       "      <td>4.0</td>\n",
       "      <td>7.500000</td>\n",
       "      <td>5.744563</td>\n",
       "      <td>4.0</td>\n",
       "      <td>4.0</td>\n",
       "      <td>5.0</td>\n",
       "      <td>8.5</td>\n",
       "      <td>16.0</td>\n",
       "      <td>2.0</td>\n",
       "    </tr>\n",
       "    <tr>\n",
       "      <th>Fire</th>\n",
       "      <td>1.0</td>\n",
       "      <td>4.000000</td>\n",
       "      <td>NaN</td>\n",
       "      <td>4.0</td>\n",
       "      <td>4.0</td>\n",
       "      <td>4.0</td>\n",
       "      <td>4.0</td>\n",
       "      <td>4.0</td>\n",
       "      <td>3.0</td>\n",
       "    </tr>\n",
       "    <tr>\n",
       "      <th>...</th>\n",
       "      <th>...</th>\n",
       "      <td>...</td>\n",
       "      <td>...</td>\n",
       "      <td>...</td>\n",
       "      <td>...</td>\n",
       "      <td>...</td>\n",
       "      <td>...</td>\n",
       "      <td>...</td>\n",
       "      <td>...</td>\n",
       "      <td>...</td>\n",
       "    </tr>\n",
       "    <tr>\n",
       "      <th rowspan=\"5\" valign=\"top\">Zirconium</th>\n",
       "      <th>Hebrew_calendar</th>\n",
       "      <td>1.0</td>\n",
       "      <td>5.000000</td>\n",
       "      <td>NaN</td>\n",
       "      <td>5.0</td>\n",
       "      <td>5.0</td>\n",
       "      <td>5.0</td>\n",
       "      <td>5.0</td>\n",
       "      <td>5.0</td>\n",
       "      <td>3.0</td>\n",
       "    </tr>\n",
       "    <tr>\n",
       "      <th>Magna_Carta</th>\n",
       "      <td>1.0</td>\n",
       "      <td>4.000000</td>\n",
       "      <td>NaN</td>\n",
       "      <td>4.0</td>\n",
       "      <td>4.0</td>\n",
       "      <td>4.0</td>\n",
       "      <td>4.0</td>\n",
       "      <td>4.0</td>\n",
       "      <td>3.0</td>\n",
       "    </tr>\n",
       "    <tr>\n",
       "      <th>Robinson_Crusoe</th>\n",
       "      <td>1.0</td>\n",
       "      <td>10.000000</td>\n",
       "      <td>NaN</td>\n",
       "      <td>10.0</td>\n",
       "      <td>10.0</td>\n",
       "      <td>10.0</td>\n",
       "      <td>10.0</td>\n",
       "      <td>10.0</td>\n",
       "      <td>4.0</td>\n",
       "    </tr>\n",
       "    <tr>\n",
       "      <th>United_Kingdom</th>\n",
       "      <td>1.0</td>\n",
       "      <td>4.000000</td>\n",
       "      <td>NaN</td>\n",
       "      <td>4.0</td>\n",
       "      <td>4.0</td>\n",
       "      <td>4.0</td>\n",
       "      <td>4.0</td>\n",
       "      <td>4.0</td>\n",
       "      <td>2.0</td>\n",
       "    </tr>\n",
       "    <tr>\n",
       "      <th>Ununbium</th>\n",
       "      <td>1.0</td>\n",
       "      <td>3.000000</td>\n",
       "      <td>NaN</td>\n",
       "      <td>3.0</td>\n",
       "      <td>3.0</td>\n",
       "      <td>3.0</td>\n",
       "      <td>3.0</td>\n",
       "      <td>3.0</td>\n",
       "      <td>2.0</td>\n",
       "    </tr>\n",
       "  </tbody>\n",
       "</table>\n",
       "<p>5585 rows × 9 columns</p>\n",
       "</div>"
      ],
      "text/plain": [
       "                                    path_length                             \\\n",
       "                                          count       mean       std   min   \n",
       "source       target                                                          \n",
       "10th_century 11th_century                   3.0   2.000000  0.000000   2.0   \n",
       "             Country                        1.0   3.000000       NaN   3.0   \n",
       "14th_century African_slave_trade            3.0   7.333333  2.081666   5.0   \n",
       "             Elizabeth_I_of_England         4.0   7.500000  5.744563   4.0   \n",
       "             Fire                           1.0   4.000000       NaN   4.0   \n",
       "...                                         ...        ...       ...   ...   \n",
       "Zirconium    Hebrew_calendar                1.0   5.000000       NaN   5.0   \n",
       "             Magna_Carta                    1.0   4.000000       NaN   4.0   \n",
       "             Robinson_Crusoe                1.0  10.000000       NaN  10.0   \n",
       "             United_Kingdom                 1.0   4.000000       NaN   4.0   \n",
       "             Ununbium                       1.0   3.000000       NaN   3.0   \n",
       "\n",
       "                                                            shortest_distance  \n",
       "                                      25%   50%   75%   max                    \n",
       "source       target                                                            \n",
       "10th_century 11th_century             2.0   2.0   2.0   2.0               1.0  \n",
       "             Country                  3.0   3.0   3.0   3.0               2.0  \n",
       "14th_century African_slave_trade      6.5   8.0   8.5   9.0               3.0  \n",
       "             Elizabeth_I_of_England   4.0   5.0   8.5  16.0               2.0  \n",
       "             Fire                     4.0   4.0   4.0   4.0               3.0  \n",
       "...                                   ...   ...   ...   ...               ...  \n",
       "Zirconium    Hebrew_calendar          5.0   5.0   5.0   5.0               3.0  \n",
       "             Magna_Carta              4.0   4.0   4.0   4.0               3.0  \n",
       "             Robinson_Crusoe         10.0  10.0  10.0  10.0               4.0  \n",
       "             United_Kingdom           4.0   4.0   4.0   4.0               2.0  \n",
       "             Ununbium                 3.0   3.0   3.0   3.0               2.0  \n",
       "\n",
       "[5585 rows x 9 columns]"
      ]
     },
     "execution_count": 4,
     "metadata": {},
     "output_type": "execute_result"
    }
   ],
   "source": [
    "# Show differences between paths and shortest paths\n",
    "\n",
    "paths_info = graph_data[\"paths_finished\"][[\"hashedIpAddress\", \"timestamp\", \"path_length\", \"source\", \"target\"]].copy()\n",
    "paths_info.sort_values(by=\"timestamp\", inplace=True)\n",
    "\n",
    "# only take first path of every player\n",
    "paths_info = paths_info.groupby([\"source\", \"target\", \"hashedIpAddress\"], as_index=False).first()\n",
    "\n",
    "paths_info = paths_info[[\"source\", \"target\", \"path_length\"]]\n",
    "paths_info = paths_info.groupby([\"source\", \"target\"]).describe()\n",
    "\n",
    "paths_info[\"shortest_distance\"] = graph_data[\"shortest-path-distance-matrix\"][\"optimal_path_length\"]\n",
    "\n",
    "# remove one special case where shortest_distance is nan\n",
    "paths_info = paths_info[lambda df: ~df.shortest_distance.isna()]\n",
    "\n",
    "paths_info"
   ]
  },
  {
   "cell_type": "code",
   "execution_count": 5,
   "metadata": {},
   "outputs": [
    {
     "data": {
      "text/plain": [
       "<Axes: title={'center': 'Comparison of encountered vs optimal path lengths'}, xlabel='Average path length of players', ylabel='Optimal length'>"
      ]
     },
     "execution_count": 5,
     "metadata": {},
     "output_type": "execute_result"
    },
    {
     "data": {
      "image/png": "[encoded data removed]",
      "text/plain": [
       "<Figure size 640x480 with 2 Axes>"
      ]
     },
     "metadata": {},
     "output_type": "display_data"
    }
   ],
   "source": [
    "paths_info.plot.hexbin(\n",
    "\tx=(\"path_length\", \"mean\"),\n",
    "\ty=\"shortest_distance\",\n",
    "\ttitle=\"Comparison of encountered vs optimal path lengths\",\n",
    "\txlabel=\"Average path length of players\",\n",
    "\tylabel=\"Optimal length\",\n",
    "\tgridsize=50,\n",
    "\tbins=\"log\",\n",
    "\tcmap=\"plasma\",\n",
    ")"
   ]
  },
  {
   "cell_type": "code",
   "execution_count": 6,
   "metadata": {},
   "outputs": [
    {
     "name": "stdout",
     "output_type": "stream",
     "text": [
      "PearsonRResult(statistic=0.4813748619406178, pvalue=5.93e-322)\n"
     ]
    }
   ],
   "source": [
    "from scipy import stats\n",
    "\n",
    "print(stats.pearsonr(paths_info[(\"path_length\", \"mean\")], paths_info[\"shortest_distance\"]))"
   ]
  },
  {
   "cell_type": "markdown",
   "metadata": {},
   "source": [
    "## Wikispeedia network analysis"
   ]
  },
  {
   "cell_type": "markdown",
   "metadata": {},
   "source": [
    "It seems quite reasonable to hypothetized that humans navigate the pages of the Wikispeedia website based on relationships existing between the target article concept and the content of the articles found along the way. In order to reason about these semantic relations, humans abstract ideas and form their inner world model, making internalizing concepts efficient and smooth.\n",
    "\n",
    "In this analysis, we verify if an intuitive top-down approach is indeed the most prevalent strategy of the players.\n",
    "\n",
    "*Do players have a tendancy to over-utilize hubs of the Wikispeedia networks?*\\\n",
    "*Is this strategy usually paying-off?*"
   ]
  },
  {
   "cell_type": "code",
   "execution_count": 7,
   "metadata": {},
   "outputs": [],
   "source": [
    "import networkx as nx\n",
    "import numpy as np\n",
    "\n",
    "\n",
    "def compute_hubs(graph):\n",
    "\thubs = nx.hits(graph, normalized=True)[0]\n",
    "\n",
    "\tdistribution = np.array([*hubs.values()])\n",
    "\tmean = np.mean(distribution)\n",
    "\tstd = np.std(distribution)\n",
    "\n",
    "\t# check positive outliers in the hub values\n",
    "\tsignificant_hubs = list(filter(lambda t: t[1] - mean > 8 * std, hubs.items()))\n",
    "\tsignificant_hubs = sorted(significant_hubs, key=lambda t: t[1], reverse=True)\n",
    "\n",
    "\treturn significant_hubs"
   ]
  },
  {
   "cell_type": "code",
   "execution_count": 8,
   "metadata": {},
   "outputs": [
    {
     "data": {
      "text/plain": [
       "[('Driving_on_the_left_or_right', 0.0013171632208290852)]"
      ]
     },
     "execution_count": 8,
     "metadata": {},
     "output_type": "execute_result"
    }
   ],
   "source": [
    "compute_hubs(graph_data[\"graph\"])"
   ]
  },
  {
   "cell_type": "code",
   "execution_count": 9,
   "metadata": {},
   "outputs": [],
   "source": [
    "# TODO: Fred code."
   ]
  },
  {
   "cell_type": "markdown",
   "metadata": {},
   "source": [
    "## Path Efficiency Analysis"
   ]
  },
  {
   "cell_type": "markdown",
   "metadata": {},
   "source": [
    "Lorem ipsum dolor sit amet, consectetur adipiscing elit. Ut fermentum pretium nibh quis accumsan. In at nunc mauris. Integer varius ante non massa pharetra auctor. Interdum et malesuada fames ac ante ipsum primis in faucibus. Sed sit amet commodo nunc. Nulla felis enim, lobortis ut pharetra quis, bibendum sed nunc. Quisque accumsan sapien ac vehicula pretium. Maecenas quis tellus hendrerit, bibendum felis at, iaculis odio. Nullam sed fringilla lorem. Morbi nunc orci, fringilla vel semper dapibus, blandit quis lacus. Pellentesque habitant morbi tristique senectus et netus et malesuada fames ac turpis egestas."
   ]
  },
  {
   "cell_type": "markdown",
   "metadata": {},
   "source": [
    "\n",
    "   - Compare actual paths with shortest paths found computationally\n",
    "   - Develop metrics for path \"efficiency\" considering both length and completion time\n",
    "   - Create visualization tools for path comparison and analysis\n",
    "   - Analyze distribution of successful vs. abandoned paths"
   ]
  },
  {
   "cell_type": "code",
   "execution_count": 10,
   "metadata": {},
   "outputs": [],
   "source": [
    "# TODO: Peter code\n",
    "\n",
    "# p-values and stuff. logits"
   ]
  },
  {
   "cell_type": "code",
   "execution_count": 11,
   "metadata": {},
   "outputs": [],
   "source": [
    "# TODO: Gabriel code\n",
    "\n",
    "# Graphs and stuff\n",
    "# people tired => people bad"
   ]
  },
  {
   "cell_type": "markdown",
   "metadata": {},
   "source": [
    "## Navigation Strategies"
   ]
  },
  {
   "cell_type": "markdown",
   "metadata": {},
   "source": [
    "It seems quite reasonable to hypothetized that humans navigate the pages of the Wikispeedia website based on relationships existing between the target article concept and the content of the articles found along the way. In order to reason about these semantic relations, humans abstract ideas and form their inner world model, making internalizing concepts efficient and smooth.\n",
    "\n",
    "In this analysis, we verify if an intuitive top-down approach is indeed the most prevalent strategy of the players.\n",
    "\n",
    "*Do players have a tendancy to over-utilize hubs of the Wikispeedia networks?*\\\n",
    "*Is this strategy usually paying-off?*"
   ]
  },
  {
   "cell_type": "markdown",
   "metadata": {},
   "source": [
    "### Top-down approach"
   ]
  },
  {
   "cell_type": "markdown",
   "metadata": {},
   "source": [
    "Represent user paths as a graph"
   ]
  },
  {
   "cell_type": "code",
   "execution_count": 13,
   "metadata": {},
   "outputs": [
    {
     "ename": "ImportError",
     "evalue": "cannot import name 'str' from 'typing' (C:\\Program Files\\WindowsApps\\PythonSoftwareFoundation.Python.3.12_3.12.2032.0_x64__qbz5n2kfra8p0\\Lib\\typing.py)",
     "output_type": "error",
     "traceback": [
      "\u001b[1;31m---------------------------------------------------------------------------\u001b[0m",
      "\u001b[1;31mImportError\u001b[0m                               Traceback (most recent call last)",
      "Cell \u001b[1;32mIn[13], line 1\u001b[0m\n\u001b[1;32m----> 1\u001b[0m \u001b[38;5;28;01mfrom\u001b[39;00m \u001b[38;5;21;01msrc\u001b[39;00m\u001b[38;5;21;01m.\u001b[39;00m\u001b[38;5;21;01mdata\u001b[39;00m\u001b[38;5;21;01m.\u001b[39;00m\u001b[38;5;21;01mgraph\u001b[39;00m \u001b[38;5;28;01mimport\u001b[39;00m extract_players_graph\n\u001b[0;32m      3\u001b[0m finished_paths_graph \u001b[38;5;241m=\u001b[39m extract_players_graph(graph_data, paths_finished\u001b[38;5;241m=\u001b[39m\u001b[38;5;28;01mTrue\u001b[39;00m)\n\u001b[0;32m      4\u001b[0m unfinished_paths_graph \u001b[38;5;241m=\u001b[39m extract_players_graph(graph_data, paths_finished\u001b[38;5;241m=\u001b[39m\u001b[38;5;28;01mFalse\u001b[39;00m)\n",
      "File \u001b[1;32mc:\\Users\\calle\\Documents\\ADA\\ada-2024-project-5pack\\src\\data\\graph.py:3\u001b[0m\n\u001b[0;32m      1\u001b[0m \u001b[38;5;28;01mimport\u001b[39;00m \u001b[38;5;21;01mnetworkx\u001b[39;00m \u001b[38;5;28;01mas\u001b[39;00m \u001b[38;5;21;01mnx\u001b[39;00m\n\u001b[1;32m----> 3\u001b[0m \u001b[38;5;28;01mfrom\u001b[39;00m \u001b[38;5;21;01mtyping\u001b[39;00m \u001b[38;5;28;01mimport\u001b[39;00m Any, Dict, Tuple, Set, \u001b[38;5;28mstr\u001b[39m\n\u001b[0;32m      5\u001b[0m Node \u001b[38;5;241m=\u001b[39m \u001b[38;5;28mstr\u001b[39m\n\u001b[0;32m      6\u001b[0m Edge \u001b[38;5;241m=\u001b[39m Tuple[\u001b[38;5;28mstr\u001b[39m, \u001b[38;5;28mstr\u001b[39m]\n",
      "\u001b[1;31mImportError\u001b[0m: cannot import name 'str' from 'typing' (C:\\Program Files\\WindowsApps\\PythonSoftwareFoundation.Python.3.12_3.12.2032.0_x64__qbz5n2kfra8p0\\Lib\\typing.py)"
     ]
    }
   ],
   "source": [
    "from src.data.graph import extract_players_graph\n",
    "\n",
    "finished_paths_graph = extract_players_graph(graph_data, paths_finished=True)\n",
    "unfinished_paths_graph = extract_players_graph(graph_data, paths_finished=False)"
   ]
  },
  {
   "cell_type": "code",
   "execution_count": null,
   "metadata": {},
   "outputs": [
    {
     "data": {
      "text/plain": [
       "[('United_States', 0.03252328407986499),\n",
       " ('Europe', 0.019288972404555495),\n",
       " ('United_Kingdom', 0.015584267109294218),\n",
       " ('England', 0.014512061177973046),\n",
       " ('North_America', 0.01376374273367645),\n",
       " ('Earth', 0.012658182958466225),\n",
       " ('World_War_II', 0.009468624468380454),\n",
       " ('English_language', 0.008884412977769693),\n",
       " ('Great_Britain', 0.007144918668458417),\n",
       " ('France', 0.0071205427603357)]"
      ]
     },
     "execution_count": null,
     "metadata": {},
     "output_type": "execute_result"
    }
   ],
   "source": [
    "compute_hubs(finished_paths_graph)"
   ]
  },
  {
   "cell_type": "code",
   "execution_count": null,
   "metadata": {},
   "outputs": [
    {
     "data": {
      "text/plain": [
       "[('United_States', 0.02245843005865249),\n",
       " ('United_Kingdom', 0.01118949329937272),\n",
       " ('England', 0.010328107713851743),\n",
       " ('Europe', 0.009365067575018654),\n",
       " ('Animal', 0.008076413290830507),\n",
       " ('North_America', 0.008043926762033967),\n",
       " ('Mammal', 0.007004155538156377),\n",
       " ('World_War_II', 0.0066776362305523895),\n",
       " ('English_language', 0.006385391170843087),\n",
       " ('Earth', 0.005854865711796787)]"
      ]
     },
     "execution_count": null,
     "metadata": {},
     "output_type": "execute_result"
    }
   ],
   "source": [
    "compute_hubs(unfinished_paths_graph)"
   ]
  },
  {
   "cell_type": "markdown",
   "metadata": {},
   "source": [
    "# Strategy : how to find unrelated specific articles\n",
    "\n",
    "The game sometimes contains some totally unrelated articles that have no direct links. One human strategy would be to find use more general concepts to bridge these two articles.\n",
    "For example when browsing from Picasso to Theory of Relativity, it might be easier to go from Picasso to Spain, even if Spain is not closer to Theory of Relativity. Because Spain is a more general article, it might be easier to find a link to Science for example.\n",
    "\n",
    "To test this hypothesis we first link the articles to their pagerank scores, which we normalize.\n",
    "After that we will plot the average path and how the generality of the articles behave."
   ]
  },
  {
   "cell_type": "code",
   "execution_count": 16,
   "metadata": {},
   "outputs": [],
   "source": [
    "from src.utils.data_utils import load_graph_data\n",
    "import pandas as pd\n",
    "# Load the data\n",
    "graph_data = load_graph_data()\n",
    "paths_finished = graph_data['paths_finished']"
   ]
  },
  {
   "cell_type": "code",
   "execution_count": null,
   "metadata": {},
   "outputs": [],
   "source": [
    "#Pagerank algorithm\n",
    "pagerank_scores = nx.pagerank(graph_data['graph'], alpha=0.85)\n",
    "graph_pagerank = pd.DataFrame(list(pagerank_scores.items()), columns=['Article', 'PageRank'])\n",
    "#Normalizing\n",
    "graph_pagerank['Generality_score'] = (graph_pagerank['PageRank'] - graph_pagerank['PageRank'].min()) / (graph_pagerank['PageRank'].max()-graph_pagerank['PageRank'].min())"
   ]
  },
  {
   "cell_type": "code",
   "execution_count": 18,
   "metadata": {},
   "outputs": [
    {
     "name": "stderr",
     "output_type": "stream",
     "text": [
      "C:\\Users\\calle\\AppData\\Local\\Temp\\ipykernel_17608\\3360916035.py:8: SettingWithCopyWarning: \n",
      "A value is trying to be set on a copy of a slice from a DataFrame.\n",
      "Try using .loc[row_indexer,col_indexer] = value instead\n",
      "\n",
      "See the caveats in the documentation: https://pandas.pydata.org/pandas-docs/stable/user_guide/indexing.html#returning-a-view-versus-a-copy\n",
      "  paths_finished['path'] = paths_finished['path'].apply(lambda x: [u for u in x if u != '<'])\n",
      "C:\\Users\\calle\\AppData\\Local\\Temp\\ipykernel_17608\\3360916035.py:11: SettingWithCopyWarning: \n",
      "A value is trying to be set on a copy of a slice from a DataFrame.\n",
      "Try using .loc[row_indexer,col_indexer] = value instead\n",
      "\n",
      "See the caveats in the documentation: https://pandas.pydata.org/pandas-docs/stable/user_guide/indexing.html#returning-a-view-versus-a-copy\n",
      "  paths_finished['Generality_score'] = paths_finished['path'].apply(\n"
     ]
    }
   ],
   "source": [
    "article_gen_score = graph_pagerank.set_index('Article')['Generality_score']\n",
    "\n",
    "# Get path finished and filter so that we only keep short paths (other are noise)\n",
    "paths_finished = graph_data['paths_finished']\n",
    "paths_finished = paths_finished[paths_finished['path'].apply(len) <= 20]\n",
    "\n",
    "#Remove < from path (but keep the articles that the person attempted to go to)\n",
    "paths_finished['path'] = paths_finished['path'].apply(lambda x: [u for u in x if u != '<'])\n",
    "\n",
    "\n",
    "paths_finished['Generality_score'] = paths_finished['path'].apply(\n",
    "    lambda path: article_gen_score.loc[path].tolist()\n",
    ")"
   ]
  },
  {
   "cell_type": "code",
   "execution_count": 21,
   "metadata": {},
   "outputs": [
    {
     "data": {
      "image/png": "[encoded data removed]",
      "text/plain": [
       "<Figure size 640x480 with 1 Axes>"
      ]
     },
     "metadata": {},
     "output_type": "display_data"
    }
   ],
   "source": [
    "import matplotlib.pyplot as plt\n",
    "\n",
    "NUMBER_OF_BINS = 10\n",
    "\n",
    "scores_bins = [[] for _ in range(NUMBER_OF_BINS+1)]\n",
    "\n",
    "#We have bins for every steps then add the scores that fall in that bin\n",
    "#For ex. if the path is of length 5 we will add step 1 to 1st bin, step 2 to 3rd, etc...\n",
    "for _, path in paths_finished.iterrows():\n",
    "    #This is the previously computed path of generality scores (for each step)\n",
    "    generality_scores = path['Generality_score']\n",
    "    bins = np.linspace(0, 1, len(generality_scores))\n",
    "\n",
    "    for fraction, score in zip(bins, generality_scores):\n",
    "        bin_index = int(fraction * NUMBER_OF_BINS) #Find bin where this falls\n",
    "        scores_bins[bin_index].append(score)\n",
    "\n",
    "scores = [np.mean(scores) for scores in scores_bins]\n",
    "\n",
    "percent = [(100*i / NUMBER_OF_BINS) for i in range(NUMBER_OF_BINS+1)]\n",
    "\n",
    "\n",
    "plt.plot(percent, scores)\n",
    "plt.xlabel('Percentage of path')\n",
    "plt.ylabel('Generality Score (higher is more general)')\n",
    "plt.title('Average path navigation behaviour generality')\n",
    "plt.grid(True)\n",
    "plt.show()"
   ]
  },
  {
   "cell_type": "markdown",
   "metadata": {},
   "source": [
    "We see that on average, while the first and last articles are very specific, the middle articles are more general, confirming our hypothesis.\n",
    "We also see that there is a decrease in generality towards the end when the player probably has a specific path in mind of how to join that article"
   ]
  },
  {
   "cell_type": "markdown",
   "metadata": {},
   "source": [
    "## Link clicking strategy\n",
    "\n",
    "Because the players are playing under time pressure, we assume they don't have time to look at the whole articles before making a selection. Therefore we state the hypothesis that players are clicking mostly on the first links that appear on the page.\n",
    "The links are ordered lexicographically so we need to scan the html files to find the order of the links. Then we will normalize by the number of links on the page and look at the proportion of clicks that happen in the top 20% of the page and in the last 80%.\n"
   ]
  },
  {
   "cell_type": "code",
   "execution_count": null,
   "metadata": {},
   "outputs": [
    {
     "name": "stdout",
     "output_type": "stream",
     "text": [
      "The autoreload extension is already loaded. To reload it, use:\n",
      "  %reload_ext autoreload\n"
     ]
    }
   ],
   "source": [
    "%load_ext autoreload\n",
    "%autoreload 2\n",
    "\n",
    "import pandas as pd\n",
    "import numpy as np\n",
    "import matplotlib.pyplot as plt\n",
    "\n",
    "from src.utils.data_utils import load_graph_data\n",
    "from src.utils.data_utils import get_links_from_html_files\n",
    "\n",
    "graph_data = load_graph_data()\n"
   ]
  },
  {
   "cell_type": "code",
   "execution_count": null,
   "metadata": {},
   "outputs": [
    {
     "name": "stdout",
     "output_type": "stream",
     "text": [
      "starting...\n"
     ]
    }
   ],
   "source": [
    "all_links_dict = get_links_from_html_files()\n",
    "for article, links in all_links_dict.items():\n",
    "    for link in links:\n",
    "        #Normalize to get relative position\n",
    "        link['position'] = link['position']/len(links)\n"
   ]
  },
  {
   "cell_type": "code",
   "execution_count": null,
   "metadata": {},
   "outputs": [],
   "source": [
    "click_positions_fin = []\n",
    "click_positions_unfin = []\n",
    "paths_finished = graph_data['paths_finished']\n",
    "paths_unfinished = graph_data['paths_unfinished']\n",
    "\n",
    "def get_click_positions(paths_df, all_links_dict, c):\n",
    "    for _,row in paths_df.iterrows():\n",
    "        path = row['path']\n",
    "        for i in range(len(path) - 1):\n",
    "            before = path[i]\n",
    "            next = path[i + 1]\n",
    "\n",
    "            if before in all_links_dict:\n",
    "                for link in all_links_dict[before]:\n",
    "                    if link.get('title') == next:\n",
    "                        if 'position' in link:\n",
    "                            c.append(link['position'])\n",
    "                        break\n",
    "\n",
    "get_click_positions(paths_finished, all_links_dict, click_positions_fin)\n",
    "get_click_positions(paths_unfinished, all_links_dict, click_positions_unfin)"
   ]
  },
  {
   "cell_type": "code",
   "execution_count": null,
   "metadata": {},
   "outputs": [
    {
     "data": {
      "image/png": "[encoded data removed]",
      "text/plain": [
       "<Figure size 640x480 with 1 Axes>"
      ]
     },
     "metadata": {},
     "output_type": "display_data"
    }
   ],
   "source": [
    "import matplotlib.pyplot as plt\n",
    "\n",
    "top_links = [pos for pos in click_positions_fin if pos <= 0.2]\n",
    "otherlinks = [pos for pos in click_positions_fin if pos > 0.2]\n",
    "\n",
    "total_clicks = len(click_positions_fin)\n",
    "top = len(top_links) / total_clicks\n",
    "bottom = len(otherlinks) / total_clicks\n",
    "\n",
    "\n",
    "labels = ['Top 20%', 'Bottom 80%']\n",
    "sizes = [len(top_links), len(otherlinks)]\n",
    "#Plot results as a pie with percentage, to add precision change x.2f\n",
    "\n",
    "plt.pie(sizes, labels=labels, autopct=lambda x: f\"{x:.1f}%\", startangle=90)\n",
    "plt.title('Proportion of clicks with respect to link ordering for paths_finished')\n",
    "plt.show()\n"
   ]
  },
  {
   "cell_type": "code",
   "execution_count": null,
   "metadata": {},
   "outputs": [
    {
     "data": {
      "image/png": "[encoded data removed]",
      "text/plain": [
       "<Figure size 640x480 with 1 Axes>"
      ]
     },
     "metadata": {},
     "output_type": "display_data"
    }
   ],
   "source": [
    "import matplotlib.pyplot as plt\n",
    "\n",
    "top_links = [pos for pos in click_positions_unfin if pos <= 0.2]\n",
    "otherlinks = [pos for pos in click_positions_unfin if pos > 0.2]\n",
    "\n",
    "total_clicks = len(click_positions_unfin)\n",
    "top = len(top_links) / total_clicks\n",
    "bottom = len(otherlinks) / total_clicks\n",
    "\n",
    "\n",
    "labels = ['Top 20%', 'Bottom 80%']\n",
    "sizes = [len(top_links), len(otherlinks)]\n",
    "#Plot results as a pie with percentage, to add precision change x.2f\n",
    "plt.pie(sizes, labels=labels, autopct=lambda x: f\"{x:.1f}%\", startangle=90)\n",
    "plt.title('Proportion of clicks with respect to link ordering for paths_unfinished')\n",
    "plt.show()\n"
   ]
  },
  {
   "cell_type": "markdown",
   "metadata": {},
   "source": [
    "It appears that both paths that are finished and unfinished click mostly on links in the top of the page (45% instead of expected 20% if the players scanned the whole page and articles importance was disseminated at random.) Note that the slightly higher percentage of top clicks in paths_unfinished may mean that unsuccessful players are more naive, but this hypothesis needs to be tested more in detail because the difference is so small.\n"
   ]
  },
  {
   "cell_type": "markdown",
   "metadata": {},
   "source": [
    "## Conclusion"
   ]
  },
  {
   "cell_type": "markdown",
   "metadata": {},
   "source": [
    "Lorem ipsum dolor sit amet, consectetur adipiscing elit. Ut fermentum pretium nibh quis accumsan. In at nunc mauris. Integer varius ante non massa pharetra auctor. Interdum et malesuada fames ac ante ipsum primis in faucibus. Sed sit amet commodo nunc. Nulla felis enim, lobortis ut pharetra quis, bibendum sed nunc. Quisque accumsan sapien ac vehicula pretium. Maecenas quis tellus hendrerit, bibendum felis at, iaculis odio. Nullam sed fringilla lorem. Morbi nunc orci, fringilla vel semper dapibus, blandit quis lacus. Pellentesque habitant morbi tristique senectus et netus et malesuada fames ac turpis egestas."
   ]
  }
 ],
 "metadata": {
  "kernelspec": {
   "display_name": "Python 3",
   "language": "python",
   "name": "python3"
  },
  "language_info": {
   "codemirror_mode": {
    "name": "ipython",
    "version": 3
   },
   "file_extension": ".py",
   "mimetype": "text/x-python",
   "name": "python",
   "nbconvert_exporter": "python",
   "pygments_lexer": "ipython3",
   "version": "3.12.7"
  }
 },
 "nbformat": 4,
 "nbformat_minor": 2
}
